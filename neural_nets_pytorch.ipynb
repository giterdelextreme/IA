{
  "cells": [
    {
      "cell_type": "markdown",
      "id": "instant-harmony",
      "metadata": {
        "id": "instant-harmony"
      },
      "source": [
        "# Neural networks with PyTorch"
      ]
    },
    {
      "cell_type": "markdown",
      "id": "joined-resident",
      "metadata": {
        "id": "joined-resident"
      },
      "source": [
        "<hr style=\"clear:both\">\n",
        "\n",
        "This notebook is part of a series of exercises for the CIVIL-226 Introduction to Machine Learning for Engineers course at EPFL and adapted for the ME-390. Copyright (c) 2021 [VITA](https://www.epfl.ch/labs/vita/) lab at EPFL  \n",
        "Use of this source code is governed by an MIT-style license that can be found in the LICENSE file or at https://www.opensource.org/licenses/MIT\n",
        "\n",
        "**Author(s):** David Mizrahi\n",
        "<hr style=\"clear:both\">\n"
      ]
    },
    {
      "cell_type": "markdown",
      "id": "placed-verification",
      "metadata": {
        "id": "placed-verification"
      },
      "source": [
        "In this exercise, we'll cover the basics of the [PyTorch](https://pytorch.org) package and use it to implement a simple neural network."
      ]
    },
    {
      "cell_type": "markdown",
      "id": "racial-preference",
      "metadata": {
        "id": "racial-preference"
      },
      "source": [
        "## Installation"
      ]
    },
    {
      "cell_type": "code",
      "execution_count": 2,
      "id": "cooked-possible",
      "metadata": {
        "id": "cooked-possible"
      },
      "outputs": [
        {
          "name": "stderr",
          "output_type": "stream",
          "text": [
            "/home/alan/.local/lib/python3.9/site-packages/tqdm/auto.py:22: TqdmWarning: IProgress not found. Please update jupyter and ipywidgets. See https://ipywidgets.readthedocs.io/en/stable/user_install.html\n",
            "  from .autonotebook import tqdm as notebook_tqdm\n"
          ]
        }
      ],
      "source": [
        "# Verify that PyTorch and torchvision are installed correctly\n",
        "# Note: You may need to restart your kernel and re-run this cell before running the following cells\n",
        "\n",
        "import torch\n",
        "import torchvision\n",
        "import torchsummary"
      ]
    },
    {
      "cell_type": "code",
      "execution_count": 3,
      "id": "future-contact",
      "metadata": {
        "colab": {
          "base_uri": "https://localhost:8080/",
          "height": 35
        },
        "id": "future-contact",
        "outputId": "ea4a80e4-b90a-4526-cad9-b4515a489787"
      },
      "outputs": [
        {
          "data": {
            "text/plain": [
              "'1.13.0+cu117'"
            ]
          },
          "execution_count": 3,
          "metadata": {},
          "output_type": "execute_result"
        }
      ],
      "source": [
        "torch.__version__"
      ]
    },
    {
      "cell_type": "code",
      "execution_count": 4,
      "id": "compliant-inspector",
      "metadata": {
        "colab": {
          "base_uri": "https://localhost:8080/",
          "height": 35
        },
        "id": "compliant-inspector",
        "outputId": "d54352cb-33f5-481c-eefa-a7cd44f28e31"
      },
      "outputs": [
        {
          "data": {
            "text/plain": [
              "'0.14.0+cu117'"
            ]
          },
          "execution_count": 4,
          "metadata": {},
          "output_type": "execute_result"
        }
      ],
      "source": [
        "torchvision.__version__"
      ]
    },
    {
      "cell_type": "markdown",
      "id": "backed-paint",
      "metadata": {
        "id": "backed-paint"
      },
      "source": [
        "#### For Google Colab\n",
        "You can run this notebook in Google Colab using the following link: https://colab.research.google.com/github/SYCAMORE-Lab/ME-390-2022/blob/master/ME-390-Exercises/ME-390-06-neural-nets/neural_nets_pytorch.ipynb"
      ]
    },
    {
      "cell_type": "code",
      "execution_count": 5,
      "id": "simple-lounge",
      "metadata": {
        "colab": {
          "base_uri": "https://localhost:8080/"
        },
        "id": "simple-lounge",
        "outputId": "a4abaf8c-60b1-4d28-9218-bd37a927b6f9"
      },
      "outputs": [],
      "source": [
        "try:\n",
        "  import google.colab\n",
        "  IN_COLAB = True\n",
        "except:\n",
        "  IN_COLAB = False\n",
        "if IN_COLAB:\n",
        "  # Clone the entire repo to access the files\n",
        "  !git clone -l -s https://github.com/SYCAMORE-Lab/ME-390-2022.git cloned-repo\n",
        "  %cd cloned-repo/ME-390-Exercises/ME-390-06-neural-nets/"
      ]
    },
    {
      "cell_type": "markdown",
      "id": "surrounded-comparison",
      "metadata": {
        "id": "surrounded-comparison"
      },
      "source": [
        "# Exercise 1: Deep Learning with PyTorch"
      ]
    },
    {
      "cell_type": "markdown",
      "id": "muslim-colony",
      "metadata": {
        "id": "muslim-colony"
      },
      "source": [
        "PyTorch's website offers a tutorial on the basics of PyTorch, which can be found  at the following link: https://pytorch.org/tutorials/beginner/deep_learning_60min_blitz.html\n",
        "\n",
        "We recommend completing this tutorial before moving on to the second exercise."
      ]
    },
    {
      "cell_type": "markdown",
      "id": "structured-monte",
      "metadata": {
        "id": "structured-monte"
      },
      "source": [
        "# Exercise 2: Simple neural nets with PyTorch"
      ]
    },
    {
      "cell_type": "markdown",
      "id": "finite-inquiry",
      "metadata": {
        "id": "finite-inquiry"
      },
      "source": [
        "In this exercise, we'll implement classifiers with PyTorch.\n",
        "More specifically, we'll compare a simple logistic regression model to a simple neural network on the MNIST dataset.\n",
        "\n",
        "Here is the general pipeline used to train neural networks with PyTorch:\n",
        "\n",
        "```\n",
        "1. Load the dataset\n",
        "2. Initialize a dataloader, define data transforms\n",
        "3. Define and instantiate network architecture\n",
        "4. Choose a loss function\n",
        "5. Choose an optimizer\n",
        "6. Define the training loop & number of epochs\n",
        "7. Train the model\n",
        "8. Check validation accuracy, visualize results, adjust hyper-parameters (not done in this exercise)\n",
        "9. Repeat steps 2-9 until satisfied with validation accuracy (not done in this exercise)\n",
        "10. Check test accuracy\n",
        "```\n",
        "\n",
        "*Recall, Epoch: number of times that the learning algorithm will work through the entire training set*\n",
        "\n",
        "In this exercise, we'll follow these steps to implement our classifiers. Let's get started!"
      ]
    },
    {
      "cell_type": "markdown",
      "id": "hourly-veteran",
      "metadata": {
        "id": "hourly-veteran"
      },
      "source": [
        "## 1. Imports"
      ]
    },
    {
      "cell_type": "code",
      "execution_count": 6,
      "id": "naughty-broadway",
      "metadata": {
        "id": "naughty-broadway"
      },
      "outputs": [],
      "source": [
        "# PyTorch & torchvision\n",
        "import torch\n",
        "import torch.nn as nn\n",
        "import torch.nn.functional as F\n",
        "import torch.optim as optim\n",
        "\n",
        "import torchvision\n",
        "import torchvision.transforms as transforms\n",
        "from torchvision.datasets import MNIST, FashionMNIST\n",
        "\n",
        "# Progress bar\n",
        "from tqdm.auto import tqdm\n",
        "\n",
        "# Helper files\n",
        "import helpers\n",
        "import metrics"
      ]
    },
    {
      "cell_type": "markdown",
      "id": "private-sessions",
      "metadata": {
        "id": "private-sessions"
      },
      "source": [
        "Here is a brief description of these imported packages:\n",
        "\n",
        "**PyTorch:**\n",
        "- `torch.nn` Contains the basic building blocks to implement neural nets (incl. different types of layers and loss functions) | [Documentation](https://pytorch.org/docs/stable/nn.html)\n",
        "- `torch.nn.functional` A functional (stateless) approach to torch.nn, often used for stateless objects (e.g. ReLU) | [Documentation](https://pytorch.org/docs/stable/nn.functional.html) | [More info](https://discuss.pytorch.org/t/what-is-the-difference-between-torch-nn-and-torch-nn-functional/33597/2)\n",
        "- `torch.optim` A package implementing various optimization algorithms, such as SGD and Adam | [Documentation](https://pytorch.org/docs/stable/optim.html)\n",
        "\n",
        "**torchvision:**\n",
        "- `torchvision.transforms` Common image transformations\n",
        "- `torchvision.datasets` Popular image datasets\n",
        "\n",
        "**`tqdm`:** Popular package used to show progress bars | [Documentation](https://tqdm.github.io/)\n",
        "\n",
        "**`helpers`**: Contains functions to help visualize data and predictions\n",
        "\n",
        "**`metrics`:** Contains two simple classes that help keep track and compute the loss and accuracy over a training epoch"
      ]
    },
    {
      "cell_type": "markdown",
      "id": "subsequent-salmon",
      "metadata": {
        "id": "subsequent-salmon"
      },
      "source": [
        "## 2. Loading and visualizing the data"
      ]
    },
    {
      "cell_type": "markdown",
      "id": "unlimited-underwear",
      "metadata": {
        "id": "unlimited-underwear",
        "tags": []
      },
      "source": [
        "### 2.1. Dataset\n",
        "\n",
        "Here, we will use the [MNIST](http://yann.lecun.com/exdb/mnist/) dataset, which consists of black-white images of hand-drawn digits. The training set has 60000 examples and the test set has 10000 examples. \n",
        "The `torchvision` package provides an easy way to load this data set. \n"
      ]
    },
    {
      "cell_type": "code",
      "execution_count": 15,
      "id": "configured-continent",
      "metadata": {
        "colab": {
          "base_uri": "https://localhost:8080/",
          "height": 423,
          "referenced_widgets": [
            "822289eeba8a48ceab6f013ddc71491e",
            "411055ef50bd4aac8f789ba05d24c5eb",
            "235aaa829d324383a9e7f771bc7530fd",
            "0c13fec6e5a54222a798c52ac06cca14",
            "54ff7143fb1d4d588c0d383109805537",
            "6c6a6dba7ca541fdb13e0999a5bd63a1",
            "06f0a16e2cd04b1db0e5b8e9d138f3c3",
            "7a7112c82a0548808892a978a2b14a88",
            "8aaff8cb146d4f98a3cfc0f1820c431d",
            "9e7cb07562064af8ba4b9eaca90577dd",
            "8ed369adb8794ad8bfde4952dde26a44",
            "7bccd42c35c042ad9dc48d374415e22a",
            "f8172fcf47b444a18cfe21801052d9be",
            "1ec5a32f61f745f78e1a12de99bc4d98",
            "2801203269684834b6a59fb02641be84",
            "2ea90f0848f44b078fb5c9e171cb5ab2",
            "a6659418702440ddad413dae8f7e126b",
            "37743cce1fb04eca866538b54cc8fd5c",
            "053e3c86d1c64bcdad237f9dce6b3852",
            "1670aaefbeac47d994f7853bb85f9114",
            "d341fc0624054435bd09afc8d6d66ba9",
            "fb2757fc42c84897a091ec130641afbe",
            "20e02f6c6370472aa288dd5c8b8a1851",
            "3c67c3ad1faf4b3ea77c03a8ed40f9ab",
            "a993c87a6f2d446ca51040cf2f554ca6",
            "38f923c8d1e140859298eccf2121c482",
            "9fc488d4f6c24688960ed098d311d35c",
            "06d6ca87c65a4466bf95d36cde8464db",
            "e2edb69467d44f8bac9f4ddfcbae1d42",
            "a7f2f355eae14bcc9faee8d3effd2641",
            "9d3e7ea117884ae88505cbe2b2ce64ed",
            "d3834d7e65ce40d4a0ce88916b618642",
            "f1db87ecf82a4294951ae2023f87ac49",
            "cd1b42892be54c7abf828717ba0b8a80",
            "0363c4b2f2d04e32af97ce75e81b9685",
            "796bedfad34c4422ace5c853eb198f10",
            "e26b40fbf69c46949ce0a9f7bc74cefe",
            "eab39976194b4302ada7717857a36b29",
            "a6058c9084e847a8ab01a99fbddbeb93",
            "660cda635d244eefbfa5c4a473178ca6",
            "e065826abb474c5ea6b32efec9c39fad",
            "e3e4b0a6c6514f4593ce181a9aaf0320",
            "55f32770ac204a9383e434506a77052f",
            "c29f5205134b4c70bf1667c44b794a22"
          ]
        },
        "id": "configured-continent",
        "outputId": "ed07d6bd-e175-458a-d8bb-fe863bbde33f"
      },
      "outputs": [],
      "source": [
        "# Save dataset in a folder called \"data\"\n",
        "root = \"data\"\n",
        "\n",
        "# transforms.ToTensor() is used to convert the downloaded PIL Image to a torch Tensor\n",
        "train_data = FashionMNIST(root, train=True, transform=transforms.ToTensor(), download=True)\n",
        "test_data = FashionMNIST(root, train=False, transform=transforms.ToTensor(), download=True)"
      ]
    },
    {
      "cell_type": "code",
      "execution_count": 16,
      "id": "three-county",
      "metadata": {
        "colab": {
          "base_uri": "https://localhost:8080/"
        },
        "id": "three-county",
        "outputId": "cc94a13e-aaaf-4d10-8744-7d528e30fa4f"
      },
      "outputs": [
        {
          "name": "stdout",
          "output_type": "stream",
          "text": [
            "Images in training data: 60000\n",
            "Images in test data: 10000\n"
          ]
        }
      ],
      "source": [
        "print(f\"Images in training data: {len(train_data)}\")\n",
        "print(f\"Images in test data: {len(test_data)}\")"
      ]
    },
    {
      "cell_type": "code",
      "execution_count": 17,
      "id": "sweet-tonight",
      "metadata": {
        "colab": {
          "base_uri": "https://localhost:8080/"
        },
        "id": "sweet-tonight",
        "outputId": "b3b4183d-b04f-4c34-f0eb-279eade25896"
      },
      "outputs": [
        {
          "data": {
            "text/plain": [
              "{0: 'T-shirt/top',\n",
              " 1: 'Trouser',\n",
              " 2: 'Pullover',\n",
              " 3: 'Dress',\n",
              " 4: 'Coat',\n",
              " 5: 'Sandal',\n",
              " 6: 'Shirt',\n",
              " 7: 'Sneaker',\n",
              " 8: 'Bag',\n",
              " 9: 'Ankle boot'}"
            ]
          },
          "execution_count": 17,
          "metadata": {},
          "output_type": "execute_result"
        }
      ],
      "source": [
        "# Show the mapping from target value to class name (if you're using MNIST, you won't be too surprised)\n",
        "{i: class_name for i, class_name in enumerate(train_data.classes)}"
      ]
    },
    {
      "cell_type": "markdown",
      "id": "perfect-dating",
      "metadata": {
        "id": "perfect-dating"
      },
      "source": [
        "### 2.2. Dataloader"
      ]
    },
    {
      "cell_type": "markdown",
      "id": "confident-albert",
      "metadata": {
        "id": "confident-albert"
      },
      "source": [
        "When training neural networks, we usually use mini-batches of data for each forward + backward pass. \n",
        "\n",
        "In order to obtain those mini-batches, we must pass our dataset through `torch.utils.DataLoader`, which combines the dataset and a sampler, and returns an iterable over the data and labels of our dataset.\n",
        "\n",
        "In this exercise, we'll pick a batch size of 32."
      ]
    },
    {
      "cell_type": "code",
      "execution_count": 18,
      "id": "thirty-glenn",
      "metadata": {
        "id": "thirty-glenn"
      },
      "outputs": [],
      "source": [
        "batch_size = 32\n",
        "# Reshuffle training data at every epoch, but not the test data \n",
        "train_loader = torch.utils.data.DataLoader(train_data, batch_size=batch_size, shuffle=True)\n",
        "test_loader = torch.utils.data.DataLoader(test_data, batch_size=batch_size, shuffle=False)"
      ]
    },
    {
      "cell_type": "markdown",
      "id": "baking-algorithm",
      "metadata": {
        "id": "baking-algorithm"
      },
      "source": [
        "Let's take a look at one of our batches."
      ]
    },
    {
      "cell_type": "code",
      "execution_count": 19,
      "id": "compliant-option",
      "metadata": {
        "id": "compliant-option",
        "tags": []
      },
      "outputs": [
        {
          "ename": "AttributeError",
          "evalue": "'_SingleProcessDataLoaderIter' object has no attribute 'next'",
          "output_type": "error",
          "traceback": [
            "\u001b[0;31m---------------------------------------------------------------------------\u001b[0m",
            "\u001b[0;31mAttributeError\u001b[0m                            Traceback (most recent call last)",
            "Cell \u001b[0;32mIn [19], line 1\u001b[0m\n\u001b[0;32m----> 1\u001b[0m images, targets \u001b[39m=\u001b[39m \u001b[39miter\u001b[39;49m(train_loader)\u001b[39m.\u001b[39;49mnext()\n",
            "\u001b[0;31mAttributeError\u001b[0m: '_SingleProcessDataLoaderIter' object has no attribute 'next'"
          ]
        }
      ],
      "source": [
        "images, targets = iter(train_loader).next()"
      ]
    },
    {
      "cell_type": "markdown",
      "id": "5aa42d2a-78e7-4619-bbef-2e3919ed200a",
      "metadata": {
        "id": "5aa42d2a-78e7-4619-bbef-2e3919ed200a"
      },
      "source": [
        "To understand how the images are represented, let us look at one of the images: "
      ]
    },
    {
      "cell_type": "code",
      "execution_count": 12,
      "id": "7f3cd428-a515-4c26-ada1-849c73d9d4fa",
      "metadata": {
        "colab": {
          "base_uri": "https://localhost:8080/"
        },
        "id": "7f3cd428-a515-4c26-ada1-849c73d9d4fa",
        "outputId": "d6d3a590-190a-419e-e6a9-c1485da4c9a3"
      },
      "outputs": [
        {
          "name": "stdout",
          "output_type": "stream",
          "text": [
            "tensor([[0.0000, 0.0000, 0.0000, 0.0000, 0.0000, 0.0000, 0.0039, 0.0039, 0.0000,\n",
            "         0.0000, 0.0000, 0.0000, 0.4392, 0.3137, 0.1373, 0.1569, 0.3373, 0.0353,\n",
            "         0.0000, 0.0000, 0.0000, 0.0000, 0.0000, 0.0000, 0.0000, 0.0000, 0.0000,\n",
            "         0.0000],\n",
            "        [0.0000, 0.0000, 0.0000, 0.0000, 0.0000, 0.0000, 0.0000, 0.0000, 0.0000,\n",
            "         0.0157, 0.1373, 0.1647, 0.5882, 0.9804, 0.9451, 0.9020, 0.9020, 0.2627,\n",
            "         0.1647, 0.0549, 0.0000, 0.0000, 0.0000, 0.0000, 0.0000, 0.0000, 0.0000,\n",
            "         0.0000],\n",
            "        [0.0000, 0.0000, 0.0000, 0.0000, 0.0000, 0.0000, 0.0000, 0.1569, 0.2745,\n",
            "         0.2784, 0.2784, 0.1922, 0.0431, 0.4667, 0.8824, 0.6588, 0.1255, 0.1529,\n",
            "         0.3137, 0.2980, 0.3059, 0.1961, 0.0000, 0.0000, 0.0000, 0.0000, 0.0000,\n",
            "         0.0000],\n",
            "        [0.0000, 0.0000, 0.0000, 0.0000, 0.0000, 0.0000, 0.2157, 0.2745, 0.1451,\n",
            "         0.1333, 0.1451, 0.1333, 0.1451, 0.0353, 0.0000, 0.0000, 0.0941, 0.1529,\n",
            "         0.1569, 0.1451, 0.1765, 0.2941, 0.3137, 0.0000, 0.0000, 0.0000, 0.0000,\n",
            "         0.0000],\n",
            "        [0.0000, 0.0000, 0.0000, 0.0000, 0.0000, 0.0824, 0.2078, 0.1137, 0.1333,\n",
            "         0.1216, 0.1216, 0.1451, 0.1255, 0.1529, 0.2353, 0.1725, 0.1569, 0.1451,\n",
            "         0.1569, 0.1373, 0.1725, 0.1255, 0.2431, 0.1569, 0.0000, 0.0000, 0.0000,\n",
            "         0.0000],\n",
            "        [0.0000, 0.0000, 0.0000, 0.0000, 0.0000, 0.1569, 0.1765, 0.1333, 0.1529,\n",
            "         0.1373, 0.1373, 0.1373, 0.1333, 0.1529, 0.1451, 0.1569, 0.1569, 0.1569,\n",
            "         0.1569, 0.1569, 0.1529, 0.1569, 0.1843, 0.2078, 0.0000, 0.0000, 0.0000,\n",
            "         0.0000],\n",
            "        [0.0000, 0.0000, 0.0000, 0.0000, 0.0000, 0.1451, 0.1961, 0.1451, 0.1451,\n",
            "         0.1216, 0.1451, 0.1451, 0.1333, 0.1529, 0.1529, 0.1373, 0.1451, 0.1451,\n",
            "         0.1373, 0.1529, 0.1647, 0.1843, 0.1922, 0.2235, 0.0000, 0.0000, 0.0000,\n",
            "         0.0000],\n",
            "        [0.0000, 0.0000, 0.0000, 0.0000, 0.0000, 0.1569, 0.1725, 0.1843, 0.1961,\n",
            "         0.1059, 0.1373, 0.1373, 0.1255, 0.1451, 0.2157, 0.1451, 0.1373, 0.1725,\n",
            "         0.1451, 0.1529, 0.1843, 0.2039, 0.1765, 0.2353, 0.0039, 0.0000, 0.0000,\n",
            "         0.0000],\n",
            "        [0.0000, 0.0000, 0.0000, 0.0000, 0.0000, 0.1725, 0.1451, 0.2157, 0.3843,\n",
            "         0.1020, 0.1216, 0.1451, 0.1333, 0.1529, 0.2157, 0.1647, 0.1451, 0.1765,\n",
            "         0.1569, 0.1333, 0.2549, 0.3255, 0.1765, 0.2235, 0.0353, 0.0000, 0.0000,\n",
            "         0.0000],\n",
            "        [0.0000, 0.0000, 0.0000, 0.0000, 0.0000, 0.1725, 0.1529, 0.1647, 0.5176,\n",
            "         0.1333, 0.1333, 0.1569, 0.1569, 0.1765, 0.1647, 0.1569, 0.1765, 0.2078,\n",
            "         0.2039, 0.1059, 0.5608, 0.3490, 0.1843, 0.2275, 0.0667, 0.0000, 0.0000,\n",
            "         0.0000],\n",
            "        [0.0000, 0.0000, 0.0000, 0.0000, 0.0000, 0.1922, 0.1451, 0.1765, 0.7608,\n",
            "         0.2235, 0.1059, 0.1647, 0.1647, 0.1765, 0.1765, 0.1373, 0.1922, 0.1961,\n",
            "         0.1922, 0.0941, 0.4863, 0.2863, 0.2667, 0.2157, 0.0863, 0.0000, 0.0000,\n",
            "         0.0000],\n",
            "        [0.0000, 0.0000, 0.0000, 0.0000, 0.0118, 0.2157, 0.1373, 0.2667, 0.5765,\n",
            "         0.1255, 0.1373, 0.1451, 0.1529, 0.1529, 0.2627, 0.2275, 0.1922, 0.1961,\n",
            "         0.2078, 0.1451, 0.2667, 0.3176, 0.2784, 0.1765, 0.1020, 0.0000, 0.0000,\n",
            "         0.0000],\n",
            "        [0.0000, 0.0000, 0.0000, 0.0000, 0.0235, 0.2549, 0.1647, 0.3333, 0.4980,\n",
            "         0.1255, 0.1255, 0.1529, 0.1529, 0.1725, 0.1843, 0.2235, 0.1647, 0.1725,\n",
            "         0.1647, 0.1333, 0.2863, 0.3882, 0.2039, 0.1922, 0.1255, 0.0000, 0.0000,\n",
            "         0.0000],\n",
            "        [0.0000, 0.0000, 0.0000, 0.0000, 0.0157, 0.2549, 0.2157, 0.3451, 0.7333,\n",
            "         0.1059, 0.1255, 0.1569, 0.1569, 0.1765, 0.1843, 0.2235, 0.1765, 0.1647,\n",
            "         0.1647, 0.0824, 0.5373, 0.4667, 0.1333, 0.2157, 0.1373, 0.0000, 0.0000,\n",
            "         0.0000],\n",
            "        [0.0000, 0.0000, 0.0000, 0.0000, 0.0627, 0.2078, 0.2667, 0.2784, 0.8235,\n",
            "         0.0824, 0.1333, 0.1569, 0.1569, 0.1647, 0.2235, 0.2275, 0.1725, 0.1765,\n",
            "         0.1922, 0.0627, 0.6667, 0.5765, 0.1333, 0.2549, 0.1373, 0.0000, 0.0000,\n",
            "         0.0000],\n",
            "        [0.0000, 0.0000, 0.0000, 0.0000, 0.1059, 0.1451, 0.3373, 0.3176, 0.5882,\n",
            "         0.0745, 0.1451, 0.1647, 0.1529, 0.1647, 0.2235, 0.2235, 0.1725, 0.1725,\n",
            "         0.1647, 0.0627, 0.5373, 0.6588, 0.1647, 0.2863, 0.1529, 0.0000, 0.0000,\n",
            "         0.0000],\n",
            "        [0.0000, 0.0000, 0.0000, 0.0000, 0.1255, 0.1020, 0.3137, 0.4078, 0.3569,\n",
            "         0.0941, 0.1451, 0.1569, 0.1373, 0.2039, 0.1961, 0.2157, 0.1922, 0.1647,\n",
            "         0.1647, 0.0824, 0.4353, 0.6980, 0.1373, 0.3137, 0.1529, 0.0000, 0.0000,\n",
            "         0.0000],\n",
            "        [0.0000, 0.0000, 0.0000, 0.0000, 0.1373, 0.0941, 0.2627, 0.5059, 0.1569,\n",
            "         0.1059, 0.1529, 0.1529, 0.1529, 0.1961, 0.1961, 0.2078, 0.1765, 0.1529,\n",
            "         0.1647, 0.0941, 0.2980, 0.5686, 0.2353, 0.2627, 0.1373, 0.0000, 0.0000,\n",
            "         0.0000],\n",
            "        [0.0000, 0.0000, 0.0000, 0.0000, 0.1216, 0.1216, 0.2471, 0.5490, 0.1020,\n",
            "         0.1255, 0.1255, 0.1529, 0.1569, 0.1961, 0.2431, 0.2235, 0.1725, 0.1647,\n",
            "         0.1529, 0.1333, 0.1725, 0.4667, 0.3843, 0.1765, 0.1529, 0.0000, 0.0000,\n",
            "         0.0000],\n",
            "        [0.0000, 0.0000, 0.0000, 0.0000, 0.1216, 0.1137, 0.3333, 0.4980, 0.0667,\n",
            "         0.1529, 0.1255, 0.1529, 0.1529, 0.2039, 0.1961, 0.2039, 0.1569, 0.1569,\n",
            "         0.1373, 0.1529, 0.1020, 0.5255, 0.4000, 0.1373, 0.1647, 0.0000, 0.0000,\n",
            "         0.0000],\n",
            "        [0.0000, 0.0000, 0.0000, 0.0000, 0.1059, 0.1020, 0.4784, 0.4000, 0.0000,\n",
            "         0.1725, 0.1255, 0.1529, 0.1451, 0.2157, 0.1922, 0.2039, 0.1647, 0.1569,\n",
            "         0.1373, 0.1529, 0.0824, 0.3961, 0.4980, 0.1451, 0.1451, 0.0000, 0.0000,\n",
            "         0.0000],\n",
            "        [0.0000, 0.0000, 0.0000, 0.0000, 0.0824, 0.0824, 0.5608, 0.3333, 0.0000,\n",
            "         0.1569, 0.1216, 0.1529, 0.1451, 0.2235, 0.2078, 0.1922, 0.1569, 0.1647,\n",
            "         0.1451, 0.1373, 0.0941, 0.3176, 0.5686, 0.1647, 0.1451, 0.0000, 0.0000,\n",
            "         0.0000],\n",
            "        [0.0000, 0.0000, 0.0000, 0.0000, 0.1020, 0.0667, 0.5686, 0.2784, 0.0314,\n",
            "         0.1333, 0.1255, 0.1529, 0.1373, 0.2235, 0.2157, 0.1765, 0.1529, 0.1569,\n",
            "         0.1569, 0.1255, 0.1137, 0.3059, 0.6000, 0.1765, 0.1255, 0.0000, 0.0000,\n",
            "         0.0000],\n",
            "        [0.0000, 0.0000, 0.0000, 0.0000, 0.1137, 0.0667, 0.5569, 0.1843, 0.0667,\n",
            "         0.1137, 0.1373, 0.1451, 0.1216, 0.2627, 0.2275, 0.1529, 0.1569, 0.1451,\n",
            "         0.1451, 0.1373, 0.1020, 0.2235, 0.6000, 0.1647, 0.1255, 0.0000, 0.0000,\n",
            "         0.0000],\n",
            "        [0.0000, 0.0000, 0.0000, 0.0000, 0.1020, 0.1137, 0.5882, 0.0745, 0.1020,\n",
            "         0.1020, 0.1137, 0.1529, 0.1529, 0.2745, 0.2275, 0.1647, 0.1569, 0.1373,\n",
            "         0.1373, 0.1216, 0.1059, 0.1569, 0.6275, 0.1961, 0.1059, 0.0000, 0.0000,\n",
            "         0.0000],\n",
            "        [0.0000, 0.0000, 0.0000, 0.0000, 0.0627, 0.1216, 0.5804, 0.0353, 0.0745,\n",
            "         0.1529, 0.1216, 0.1647, 0.1569, 0.2353, 0.1843, 0.1843, 0.1765, 0.1529,\n",
            "         0.1569, 0.1333, 0.1451, 0.1373, 0.6980, 0.1333, 0.1020, 0.0000, 0.0000,\n",
            "         0.0000],\n",
            "        [0.0000, 0.0000, 0.0000, 0.0000, 0.0510, 0.1373, 0.7725, 0.0627, 0.0000,\n",
            "         0.2039, 0.1922, 0.2078, 0.2275, 0.2627, 0.1961, 0.2078, 0.2235, 0.2157,\n",
            "         0.1961, 0.2039, 0.0745, 0.0000, 1.0000, 0.1725, 0.0667, 0.0000, 0.0000,\n",
            "         0.0000],\n",
            "        [0.0000, 0.0000, 0.0000, 0.0000, 0.0039, 0.0549, 0.4863, 0.0157, 0.0000,\n",
            "         0.0000, 0.0510, 0.0745, 0.1255, 0.1725, 0.1255, 0.1255, 0.1255, 0.1137,\n",
            "         0.0549, 0.0431, 0.0000, 0.0000, 0.6118, 0.1333, 0.0157, 0.0000, 0.0000,\n",
            "         0.0000]])\n"
          ]
        }
      ],
      "source": [
        "print(images[0,0,:,:])"
      ]
    },
    {
      "cell_type": "code",
      "execution_count": 13,
      "id": "identical-slope",
      "metadata": {
        "colab": {
          "base_uri": "https://localhost:8080/",
          "height": 269
        },
        "id": "identical-slope",
        "outputId": "34ad7a49-4f6f-4661-9a84-7a306c7b64a7"
      },
      "outputs": [
        {
          "data": {
            "image/png": "[encoded data removed]",
            "text/plain": [
              "<Figure size 432x288 with 1 Axes>"
            ]
          },
          "metadata": {
            "needs_background": "light"
          },
          "output_type": "display_data"
        },
        {
          "name": "stdout",
          "output_type": "stream",
          "text": [
            "tensor([[6, 5, 1, 1, 1, 8, 2, 4],\n",
            "        [4, 6, 9, 5, 0, 4, 6, 2],\n",
            "        [9, 7, 8, 1, 3, 9, 8, 7],\n",
            "        [7, 6, 2, 0, 9, 6, 6, 2]])\n"
          ]
        }
      ],
      "source": [
        "helpers.imshow(torchvision.utils.make_grid(images, nrow=8))\n",
        "print(targets.reshape(-1, 8))"
      ]
    },
    {
      "cell_type": "markdown",
      "id": "potential-gravity",
      "metadata": {
        "id": "potential-gravity"
      },
      "source": [
        "## 3. Simple model"
      ]
    },
    {
      "cell_type": "markdown",
      "id": "crazy-shift",
      "metadata": {
        "id": "crazy-shift"
      },
      "source": [
        "First, we'll build a simple classifier (akin to logistic regression)."
      ]
    },
    {
      "cell_type": "markdown",
      "id": "underlying-rough",
      "metadata": {
        "id": "underlying-rough"
      },
      "source": [
        "###  3.1 Network architecture"
      ]
    },
    {
      "cell_type": "markdown",
      "id": "wooden-norwegian",
      "metadata": {
        "id": "wooden-norwegian"
      },
      "source": [
        "#### Short primer on `nn.Module`\n",
        "\n",
        "In PyTorch, each neural net architecture is a subclass of `nn.Module` ([Documentation](https://pytorch.org/docs/stable/generated/torch.nn.Module.html))\n",
        "\n",
        "To quote an [official tutorial](https://pytorch.org/tutorials/beginner/nlp/deep_learning_tutorial.html?highlight=module):\n",
        "\n",
        "> All network components should inherit from `nn.Module` and override the `forward()` method. That is about it, as far as the boilerplate is concerned. Inheriting from `nn.Module` provides functionality to your component. For example, it makes it keep track of its trainable parameters, you can swap it between CPU and GPU with the `.to(device)` method, where device can be a CPU device `torch.device(\"cpu\")` or CUDA device `torch.device(\"cuda:0\")`.\n",
        "\n",
        "\n",
        "In order to implement your model, you'll therefore need to fill in two methods:\n",
        "\n",
        "**`__init__()`**: \n",
        "\n",
        "- Initialize your layers here, so that the module can keep track of these layers' parameters. \n",
        "- It is not necessary to initialize layers with no learnable parameters (e.g. `ReLU`), as you can use  the`nn.functional` API for those if you want.\n",
        "\n",
        "**`forward()`**:\n",
        "\n",
        "- Define your model architecture here (i.e. call your layers in the desired order). You can use any of the Tensor operations in the `forward` function.\n",
        "- This function defines the computation performed at every call. The backward function (where gradients are computed) is automatically defined for you using autograd. \n",
        "\n",
        "The learnable parameters of a model are returned by `model.parameters()`."
      ]
    },
    {
      "cell_type": "markdown",
      "id": "bottom-blank",
      "metadata": {
        "id": "bottom-blank"
      },
      "source": [
        "#### One layer neural net\n",
        "\n",
        "You should implement a one-layer network as follows:\n",
        "- First, flatten the image so that rather than matrices they are seen as a vector of dimension 28x28=784.\n",
        "- A fully-connected layer from the flattened input of shape (784,) to the output layer of shape (10,) as we have 10 different classes.\n",
        "\n",
        "Note that there is no hidden layer here. \n",
        "\n",
        "Furthermore, the output layer provides a real value corresponding to each of the 10 classes for the digits 0, 1, 2, ..., 9. Hence, to use this network for classification, we can use a cross-entropy loss:: [`CrossEntropyLoss()` module](https://pytorch.org/docs/stable/generated/torch.nn.CrossEntropyLoss.html). Hence, we can obtain the probability of each of the 10 classes after training the network.\n",
        "\n",
        "As a result, we also added a `predict()` method that adds this softmax layer, it'll be useful later on.\n",
        "\n",
        "Notice that we use `class` from python to define the neural network. For a brief introduction to this, go back to Section 8 of the exercise 01-python."
      ]
    },
    {
      "cell_type": "markdown",
      "id": "streaming-screening",
      "metadata": {
        "id": "streaming-screening"
      },
      "source": [
        "**One layer neural net:**\n",
        "\n",
        "<img src=\"https://github.com/SYCAMORE-Lab/ME-390-2022/blob/master/ME-390-Exercises/ME-390-06-neural-nets/images/1_layer_net.png?raw=1\" width=220></img>"
      ]
    },
    {
      "cell_type": "code",
      "execution_count": 14,
      "id": "agreed-sailing",
      "metadata": {
        "id": "agreed-sailing"
      },
      "outputs": [],
      "source": [
        "class OneLayerNet(nn.Module):\n",
        "    \"\"\"1-Layer MNIST classifier\"\"\"\n",
        "    \n",
        "    def __init__(self):\n",
        "        super().__init__()\n",
        "        self.fc = nn.Linear(784, 10)\n",
        "\n",
        "    def forward(self, x: torch.Tensor) -> torch.Tensor:\n",
        "        # Flatten to get tensor of shape (batch_size, 784)\n",
        "        x = x.flatten(start_dim=1)\n",
        "        out = self.fc(x)\n",
        "        return out\n",
        "\n",
        "    def predict(self, x: torch.Tensor) -> torch.Tensor:\n",
        "        \"\"\"Predicts classes by calculating the softmax\"\"\"\n",
        "        logits = self.forward(x)\n",
        "        return F.softmax(logits, dim=1)\n",
        "\n",
        "model = OneLayerNet()"
      ]
    },
    {
      "cell_type": "markdown",
      "id": "geographic-compression",
      "metadata": {
        "id": "geographic-compression",
        "tags": []
      },
      "source": [
        "**Question:** How many trainable parameters (weights) does this network have?"
      ]
    },
    {
      "cell_type": "markdown",
      "id": "compliant-cleaning",
      "metadata": {
        "id": "compliant-cleaning"
      },
      "source": [
        "**Answer:**\n",
        "YOUR ANSWER HERE"
      ]
    },
    {
      "cell_type": "markdown",
      "id": "undefined-triple",
      "metadata": {
        "id": "undefined-triple"
      },
      "source": [
        "### 3.2. Loss function and optimizer"
      ]
    },
    {
      "cell_type": "markdown",
      "id": "happy-stock",
      "metadata": {
        "id": "happy-stock"
      },
      "source": [
        "As mentioned, we choose Cross Entropy loss as our loss function. For training, we use Stochastic Gradient Descent (SGD) with a learning rate of 0.05 as our optimizer."
      ]
    },
    {
      "cell_type": "code",
      "execution_count": 15,
      "id": "comprehensive-banana",
      "metadata": {
        "id": "comprehensive-banana"
      },
      "outputs": [],
      "source": [
        "loss_fn = nn.CrossEntropyLoss()\n",
        "optimizer = optim.SGD(model.parameters(), lr=0.05)"
      ]
    },
    {
      "cell_type": "markdown",
      "id": "packed-trigger",
      "metadata": {
        "id": "packed-trigger"
      },
      "source": [
        "### 3.3. Training loop"
      ]
    },
    {
      "cell_type": "markdown",
      "id": "european-mozambique",
      "metadata": {
        "id": "european-mozambique"
      },
      "source": [
        "The training loop can be defined as follows:\n",
        "\n",
        "```\n",
        "For each batch in the dataset:\n",
        "   1. Load the batch\n",
        "   2. Zero-out the accumulated gradients (PyTorch accumulates gradients during each iteration of an epoch. this is useful for some other neural network training tasks but not for our exercise).\n",
        "   3. Run the forward pass through your model.\n",
        "   4. Compute the loss.\n",
        "   5. Run the backward pass, i.e. compute gradients of the loss w.r.t. to the weights.\n",
        "   6. Update the weights using the optimizer.\n",
        "```\n",
        "\n",
        "Take a look at the `train()` function written for you below and predict how many iterations of the inner and outer for loops will be done by calling the train function on our dataset:"
      ]
    },
    {
      "cell_type": "code",
      "execution_count": 16,
      "id": "treated-vietnam",
      "metadata": {
        "id": "treated-vietnam"
      },
      "outputs": [],
      "source": [
        "def train(model: torch.nn.Module, train_loader: torch.utils.data.DataLoader, loss_fn: torch.nn.Module, optimizer: torch.optim.Optimizer, epochs: int):\n",
        "    \n",
        "    # Initialize metrics for loss and accuracy\n",
        "    loss_metric = metrics.LossMetric()\n",
        "    acc_metric = metrics.AccuracyMetric(k=1)\n",
        "    \n",
        "    # Sets the module in training mode (doesn't have any effect here, but good habit to take)\n",
        "    model.train()\n",
        "    \n",
        "    for epoch in range(1, epochs + 1):\n",
        "        \n",
        "        # Progress bar set-up\n",
        "        pbar = tqdm(total=len(train_loader), leave=True)\n",
        "        pbar.set_description(f\"Epoch {epoch}\")\n",
        "        \n",
        "        # Iterate through data\n",
        "        for data, target in train_loader:\n",
        "            \n",
        "            # Zero-out the gradients\n",
        "            optimizer.zero_grad()\n",
        "            \n",
        "            # Forward pass\n",
        "            out = model(data)\n",
        "            \n",
        "            # Compute loss\n",
        "            loss = loss_fn(out, target)\n",
        "            \n",
        "            # Backward pass\n",
        "            loss.backward()\n",
        "            \n",
        "            # Optimizer step\n",
        "            optimizer.step()\n",
        "            \n",
        "            \n",
        "            # Update metrics & progress bar\n",
        "            loss_metric.update(loss.item(), data.shape[0])\n",
        "            acc_metric.update(out, target)\n",
        "            pbar.update()\n",
        "            \n",
        "        # End of epoch, show loss and acc\n",
        "        pbar.set_postfix_str(f\"Train loss: {loss_metric.compute():.3f} | Train acc: {acc_metric.compute() * 100:.2f}%\")\n",
        "        loss_metric.reset()\n",
        "        acc_metric.reset()"
      ]
    },
    {
      "cell_type": "markdown",
      "id": "similar-personal",
      "metadata": {
        "id": "similar-personal"
      },
      "source": [
        "Now that the train function is defined, it's time to actually train your model."
      ]
    },
    {
      "cell_type": "code",
      "execution_count": 17,
      "id": "latest-utility",
      "metadata": {
        "id": "latest-utility"
      },
      "outputs": [],
      "source": [
        "# Train model for 10 epochs\n",
        "train(model, train_loader, loss_fn, optimizer, epochs=0)"
      ]
    },
    {
      "cell_type": "markdown",
      "id": "bbf47f13-d97c-4ec5-baff-7c68728c29f6",
      "metadata": {
        "id": "bbf47f13-d97c-4ec5-baff-7c68728c29f6",
        "tags": []
      },
      "source": [
        "**Question:** How many iterations are in each epoch? "
      ]
    },
    {
      "cell_type": "markdown",
      "id": "a296aae4-026c-405d-9504-68965c41b5da",
      "metadata": {
        "id": "a296aae4-026c-405d-9504-68965c41b5da",
        "tags": []
      },
      "source": [
        "**Answer:** \n",
        "YOUR ANSWER HERE"
      ]
    },
    {
      "cell_type": "markdown",
      "id": "driven-chance",
      "metadata": {
        "id": "driven-chance",
        "tags": []
      },
      "source": [
        "### 3.4. Test accuracy\n",
        "\n",
        "You should now have a model with > 90% train accuracy, but this doesn't tell the whole story. In order to actually estimate how good our model is, we need to check its accuracy on the test set.\n",
        "\n",
        "Look through the function `test()` which computes the test accuracy of a given model on a specific dataset.\n",
        "\n",
        "This function iterates through a dataset once (using a DataLoader) and displays the accuracy."
      ]
    },
    {
      "cell_type": "code",
      "execution_count": 18,
      "id": "unlikely-interval",
      "metadata": {
        "id": "unlikely-interval"
      },
      "outputs": [],
      "source": [
        "def test(model: torch.nn.Module, dataloader: torch.utils.data.DataLoader):\n",
        "    \n",
        "    # Initialize accuracy metric\n",
        "    acc_metric = metrics.AccuracyMetric(k=1)\n",
        "    \n",
        "    # Progress bar set-up\n",
        "    pbar = tqdm(total=len(test_loader), leave=True)\n",
        "    \n",
        "    # Sets the module in eval mode (doesn't have any effect here, but good habit to take)\n",
        "    model.eval()\n",
        "    \n",
        "    with torch.no_grad():\n",
        "        \n",
        "        # Iterate through data\n",
        "        for data, target in dataloader:\n",
        "            \n",
        "            # Forward pass\n",
        "            out = model(data)\n",
        "            \n",
        "            # Update accuracy metric\n",
        "            acc_metric.update(out, target)\n",
        "\n",
        "            # Update progress bar\n",
        "            pbar.update()\n",
        "            \n",
        "    # End of epoch, show loss and acc\n",
        "    test_acc = acc_metric.compute() * 100\n",
        "    pbar.set_postfix_str(f\"Acc: {test_acc:.2f}%\")\n",
        "    print(f\"Accuracy is {test_acc:.2f}%\")\n"
      ]
    },
    {
      "cell_type": "code",
      "execution_count": 19,
      "id": "direct-triumph",
      "metadata": {
        "colab": {
          "base_uri": "https://localhost:8080/",
          "height": 66,
          "referenced_widgets": [
            "de5b12ce659a4f3cb7eb8e6dfe97c3a2",
            "b8de7c62407048cfa6482550410b02cf",
            "7c42405c68ea4a97a169a5494aa918e8",
            "4475bf5882084f2fa03b80ae8b4c71ec",
            "f586ea0c2863481f957fe2c7f18ee1c3",
            "39f5e26b21ac416f981487e6e54a48e7",
            "49bbf53d5b734f0582b2ea451908a059",
            "dcd6fba1e8a042979d70da4738825c99",
            "766d099b9eaf4b01965fcfeb3fe706f6",
            "8a3d0014a77344cda8297586bb3c81a0",
            "f65e22a60533482fbc8e064e790c17fc"
          ]
        },
        "id": "direct-triumph",
        "outputId": "51f708f3-2da0-4d9b-97a7-13cc1d50f7e8"
      },
      "outputs": [
        {
          "data": {
            "application/vnd.jupyter.widget-view+json": {
              "model_id": "de5b12ce659a4f3cb7eb8e6dfe97c3a2",
              "version_major": 2,
              "version_minor": 0
            },
            "text/plain": [
              "  0%|          | 0/313 [00:00<?, ?it/s]"
            ]
          },
          "metadata": {},
          "output_type": "display_data"
        },
        {
          "name": "stdout",
          "output_type": "stream",
          "text": [
            "Accuracy is 6.60%\n"
          ]
        }
      ],
      "source": [
        "test(model, test_loader)"
      ]
    },
    {
      "cell_type": "markdown",
      "id": "virtual-lighting",
      "metadata": {
        "id": "virtual-lighting"
      },
      "source": [
        "**Expected result:** >90% test accuracy on MNIST"
      ]
    },
    {
      "cell_type": "markdown",
      "id": "reflected-outside",
      "metadata": {
        "id": "reflected-outside"
      },
      "source": [
        "We obtain an accuracy of over 90% with this simple softmax regression model. A random classifier would only get an accuracy of ~10% (why?), so this is quite an improvement!\n",
        "\n",
        "But let's not stop there, we can do even better with just a few small changes. Let's see how!"
      ]
    },
    {
      "cell_type": "markdown",
      "id": "concrete-contractor",
      "metadata": {
        "id": "concrete-contractor"
      },
      "source": [
        "## 4. Simple neural net (with hidden layers)"
      ]
    },
    {
      "cell_type": "markdown",
      "id": "respective-orchestra",
      "metadata": {
        "id": "respective-orchestra"
      },
      "source": [
        "Time to implement (actual) neural networks. As you'll soon see, the entire pipeline is very similar, only the network architecture changes."
      ]
    },
    {
      "cell_type": "markdown",
      "id": "saving-topic",
      "metadata": {
        "id": "saving-topic"
      },
      "source": [
        "#### Network architecture\n",
        "\n",
        "You should implement a three-layer fully-connected neural net (2 hidden layers) composed of the following:\n",
        "- First, flatten the image (as done previously)\n",
        "- A fully-connected layer from the flattened input of shape (784,) to the first hidden layer of shape (100, ), with ReLU as an activation.\n",
        "- A fully-connected layer from the first hidden layer of shape (100,) to the second hidden layer of shape (100, ), with ReLU as an activation.\n",
        "- A fully-connected layer from the second hidden layer of shape (100,) to the output layer of shape (10,).\n",
        "\n",
        "Fully connected neural networks (FCNNs) are sometimes also referred to as multilayer perceptrons (MLP) in ML literature.\n",
        "\n",
        "**Note:** You can use the OneLayerNet function above and simply fill in additional information for the layers below"
      ]
    },
    {
      "cell_type": "markdown",
      "id": "published-prize",
      "metadata": {
        "id": "published-prize"
      },
      "source": [
        "**Three-layer neural net:**\n",
        "\n",
        "<img src=\"https://github.com/SYCAMORE-Lab/ME-390-2022/blob/master/ME-390-Exercises/ME-390-06-neural-nets/images/3_layer_net.png?raw=1\" width=250></img>"
      ]
    },
    {
      "cell_type": "code",
      "execution_count": 20,
      "id": "biblical-corps",
      "metadata": {
        "id": "biblical-corps"
      },
      "outputs": [],
      "source": [
        "class ThreeLayerNet(nn.Module):\n",
        "    \"\"\"3-Layer neural net\"\"\"\n",
        "    \n",
        "    def __init__(self):\n",
        "        super().__init__()\n",
        "\n",
        "        self.fc1 = nn.Linear(784, 15)\n",
        "        ### START CODE HERE ###\n",
        "        ### Hint: you need two more linear layers here of appropriate dimension\n",
        "        self.fc2 = nn.Linear(15, 15)\n",
        "        self.fc3 = nn.Linear(15, 10)\n",
        "        ### END CODE HERE ###\n",
        "\n",
        "    def forward(self, x: torch.Tensor) -> torch.Tensor:\n",
        "        # Flatten to get tensor of shape (batch_size, 784)\n",
        "        x = x.flatten(start_dim=1)\n",
        "        x = F.relu(self.fc1(x))\n",
        "        x = F.relu(self.fc2(x))\n",
        "        out = self.fc3(x)\n",
        "        ### START CODE HERE ###\n",
        "        ### Hint: you need one more relu layer and the output layer     \n",
        "\n",
        "        return out\n",
        "        ### END CODE HERE ###\n",
        "\n",
        "    def predict(self, x: torch.Tensor) -> torch.Tensor:\n",
        "        \"\"\"Predicts classes by calculating the softmax\"\"\"\n",
        "        logits = self.forward(x)\n",
        "        return F.softmax(logits, dim=1)\n",
        "\n",
        "model = ThreeLayerNet()"
      ]
    },
    {
      "cell_type": "markdown",
      "id": "greek-harassment",
      "metadata": {
        "id": "greek-harassment"
      },
      "source": [
        "**Question:** How many trainable parameters (weights) does this network have?"
      ]
    },
    {
      "cell_type": "markdown",
      "id": "worst-exhibit",
      "metadata": {
        "id": "worst-exhibit"
      },
      "source": [
        "**Answer:**\n",
        "YOUR ANSWER HERE"
      ]
    },
    {
      "cell_type": "markdown",
      "id": "valuable-trigger",
      "metadata": {
        "id": "valuable-trigger"
      },
      "source": [
        "#### Loss & optimizer\n",
        "\n",
        "Use the same loss function and optimizer as in the previous section. Namely, the Cross-Entropy loss and SGD with lr=0.05."
      ]
    },
    {
      "cell_type": "code",
      "execution_count": 21,
      "id": "framed-recognition",
      "metadata": {
        "id": "framed-recognition"
      },
      "outputs": [],
      "source": [
        "### START CODE HERE ###\n",
        "loss_fn = nn.CrossEntropyLoss()\n",
        "optimizer = optim.SGD(model.parameters(), lr=0.05)\n",
        "### END CODE HERE ###"
      ]
    },
    {
      "cell_type": "markdown",
      "id": "partial-collapse",
      "metadata": {
        "id": "partial-collapse"
      },
      "source": [
        "#### Training"
      ]
    },
    {
      "cell_type": "markdown",
      "id": "consistent-adaptation",
      "metadata": {
        "id": "consistent-adaptation"
      },
      "source": [
        "Use `train()` to launch the training process, use the same number of epochs as in the previous part."
      ]
    },
    {
      "cell_type": "code",
      "execution_count": 22,
      "id": "intellectual-chess",
      "metadata": {
        "id": "intellectual-chess"
      },
      "outputs": [],
      "source": [
        "### START CODE HERE ###\n",
        "train(model, train_loader, loss_fn, optimizer, epochs=0)\n",
        "### END CODE HERE ###"
      ]
    },
    {
      "cell_type": "markdown",
      "id": "indie-republican",
      "metadata": {
        "id": "indie-republican"
      },
      "source": [
        "#### Test accuracy"
      ]
    },
    {
      "cell_type": "markdown",
      "id": "fourth-geology",
      "metadata": {
        "id": "fourth-geology"
      },
      "source": [
        "Compute the test accuracy using `test()`."
      ]
    },
    {
      "cell_type": "code",
      "execution_count": 23,
      "id": "identical-munich",
      "metadata": {
        "colab": {
          "base_uri": "https://localhost:8080/",
          "height": 66,
          "referenced_widgets": [
            "9e9a8dbfcdce4b809e28a6389625d914",
            "b2a832eaf9f5455f9adf423a0ef53739",
            "14472c0c633e40a2ba1b1899c15b59e8",
            "a9d486ffca9a418ba72abe3986fc61f8",
            "80bc01c912844f16a528919f2f8142c9",
            "c308499a242549dcb819666d42f21445",
            "da1e9fa29e18474c9e9714cb1c279609",
            "605c7236217244d1826c3a98bded0dd6",
            "38acf0e088244e40be267509e4783585",
            "a625c5ec92aa4e1f90e3cc62acde9cf1",
            "df648dbb862a4090b51dba602aa7f301"
          ]
        },
        "id": "identical-munich",
        "outputId": "18419bc8-e28c-4d69-9243-97964314e087"
      },
      "outputs": [
        {
          "data": {
            "application/vnd.jupyter.widget-view+json": {
              "model_id": "9e9a8dbfcdce4b809e28a6389625d914",
              "version_major": 2,
              "version_minor": 0
            },
            "text/plain": [
              "  0%|          | 0/313 [00:00<?, ?it/s]"
            ]
          },
          "metadata": {},
          "output_type": "display_data"
        },
        {
          "name": "stdout",
          "output_type": "stream",
          "text": [
            "Accuracy is 10.00%\n"
          ]
        }
      ],
      "source": [
        "### START CODE HERE ###\n",
        "test(model, test_loader)\n",
        "### END CODE HERE ###"
      ]
    },
    {
      "cell_type": "markdown",
      "id": "local-fashion",
      "metadata": {
        "id": "local-fashion"
      },
      "source": [
        "**Expected result:** >96% test accuracy on MNIST"
      ]
    },
    {
      "cell_type": "markdown",
      "id": "egyptian-timothy",
      "metadata": {
        "id": "egyptian-timothy"
      },
      "source": [
        "## 5. Visualizing predictions"
      ]
    },
    {
      "cell_type": "code",
      "execution_count": 27,
      "id": "HHBWSwzGhVPo",
      "metadata": {
        "colab": {
          "base_uri": "https://localhost:8080/"
        },
        "id": "HHBWSwzGhVPo",
        "outputId": "7b0285d9-a643-4727-a46e-339dea6db9e4"
      },
      "outputs": [
        {
          "name": "stdout",
          "output_type": "stream",
          "text": [
            "----------------------------------------------------------------\n",
            "        Layer (type)               Output Shape         Param #\n",
            "================================================================\n",
            "            Linear-1                   [-1, 15]          11,775\n",
            "            Linear-2                   [-1, 15]             240\n",
            "            Linear-3                   [-1, 10]             160\n",
            "================================================================\n",
            "Total params: 12,175\n",
            "Trainable params: 12,175\n",
            "Non-trainable params: 0\n",
            "----------------------------------------------------------------\n",
            "Input size (MB): 0.00\n",
            "Forward/backward pass size (MB): 0.00\n",
            "Params size (MB): 0.05\n",
            "Estimated Total Size (MB): 0.05\n",
            "----------------------------------------------------------------\n"
          ]
        }
      ],
      "source": [
        "torchsummary.summary(model, (1, 28, 28), device=\"cpu\")"
      ]
    },
    {
      "cell_type": "markdown",
      "id": "educational-macintosh",
      "metadata": {
        "id": "educational-macintosh"
      },
      "source": [
        "Let's take a look at a few of our model's predictions.\n",
        "\n",
        "First, we'll get the predictions for one batch of our test data (this is where the `predict()` method becomes useful)."
      ]
    },
    {
      "cell_type": "code",
      "execution_count": 24,
      "id": "instrumental-acquisition",
      "metadata": {
        "id": "instrumental-acquisition"
      },
      "outputs": [],
      "source": [
        "images, _ = iter(test_loader).next()\n",
        "preds = model.predict(images)"
      ]
    },
    {
      "cell_type": "markdown",
      "id": "rolled-captain",
      "metadata": {
        "id": "rolled-captain"
      },
      "source": [
        "Then, we'll use a function in `helpers` to view the classifier's softmax score next to each image."
      ]
    },
    {
      "cell_type": "code",
      "execution_count": 25,
      "id": "hollywood-packet",
      "metadata": {
        "colab": {
          "base_uri": "https://localhost:8080/",
          "height": 1000
        },
        "id": "hollywood-packet",
        "outputId": "accd2f2c-2e49-4c0c-b357-4b19aaf1fa96"
      },
      "outputs": [
        {
          "data": {
            "image/png": "[encoded data removed]",
            "text/plain": [
              "<Figure size 432x504 with 2 Axes>"
            ]
          },
          "metadata": {
            "needs_background": "light"
          },
          "output_type": "display_data"
        },
        {
          "data": {
            "image/png": "[encoded data removed]",
            "text/plain": [
              "<Figure size 432x504 with 2 Axes>"
            ]
          },
          "metadata": {
            "needs_background": "light"
          },
          "output_type": "display_data"
        },
        {
          "data": {
            "image/png": "[encoded data removed]",
            "text/plain": [
              "<Figure size 432x504 with 2 Axes>"
            ]
          },
          "metadata": {
            "needs_background": "light"
          },
          "output_type": "display_data"
        },
        {
          "data": {
            "image/png": "[encoded data removed]",
            "text/plain": [
              "<Figure size 432x504 with 2 Axes>"
            ]
          },
          "metadata": {
            "needs_background": "light"
          },
          "output_type": "display_data"
        },
        {
          "data": {
            "image/png": "[encoded data removed]",
            "text/plain": [
              "<Figure size 432x504 with 2 Axes>"
            ]
          },
          "metadata": {
            "needs_background": "light"
          },
          "output_type": "display_data"
        },
        {
          "data": {
            "image/png": "[encoded data removed]",
            "text/plain": [
              "<Figure size 432x504 with 2 Axes>"
            ]
          },
          "metadata": {
            "needs_background": "light"
          },
          "output_type": "display_data"
        },
        {
          "data": {
            "image/png": "[encoded data removed]",
            "text/plain": [
              "<Figure size 432x504 with 2 Axes>"
            ]
          },
          "metadata": {
            "needs_background": "light"
          },
          "output_type": "display_data"
        },
        {
          "data": {
            "image/png": "[encoded data removed]",
            "text/plain": [
              "<Figure size 432x504 with 2 Axes>"
            ]
          },
          "metadata": {
            "needs_background": "light"
          },
          "output_type": "display_data"
        },
        {
          "data": {
            "image/png": "[encoded data removed]",
            "text/plain": [
              "<Figure size 432x504 with 2 Axes>"
            ]
          },
          "metadata": {
            "needs_background": "light"
          },
          "output_type": "display_data"
        },
        {
          "data": {
            "image/png": "[encoded data removed]",
            "text/plain": [
              "<Figure size 432x504 with 2 Axes>"
            ]
          },
          "metadata": {
            "needs_background": "light"
          },
          "output_type": "display_data"
        }
      ],
      "source": [
        "# Shows the image next to the classifier's softmax score\n",
        "# Show for the first 10 images (change value to see more images)\n",
        "for i in range(10):\n",
        "    helpers.view_prediction(images[i], preds[i], test_data.classes)"
      ]
    },
    {
      "cell_type": "markdown",
      "id": "usual-portsmouth",
      "metadata": {
        "id": "usual-portsmouth"
      },
      "source": [
        "Not bad, right?\n",
        "\n",
        "Congratulations on finishing this exercise! If you want to try out your network on a different dataset, take a look at part 6.\n"
      ]
    },
    {
      "cell_type": "markdown",
      "id": "third-jaguar",
      "metadata": {
        "id": "third-jaguar"
      },
      "source": [
        "## 6.  Training your model on a different dataset\n",
        "There are many datasets designed to serve as a direct drop-in replacement to MNIST, one of them being [Fashion-MNIST](https://github.com/zalandoresearch/fashion-mnist), by Zalando Research.\n",
        "\n",
        "You can try out these two networks on Fashion-MNIST by just replacing the following two lines at the beginning of the notebook and re-running the entire code.\n",
        "\n",
        "Replace:\n",
        "```python\n",
        "train_data = MNIST(root, train=True, transform=transforms.ToTensor(), download=True)\n",
        "test_data = MNIST(root, train=False, transform=transforms.ToTensor(), download=True)\n",
        "```\n",
        "\n",
        "with:\n",
        "```python\n",
        "train_data = FashionMNIST(root, train=True, transform=transforms.ToTensor(), download=True)\n",
        "test_data = FashionMNIST(root, train=False, transform=transforms.ToTensor(), download=True)\n",
        "```\n",
        "\n",
        "**Note:** FashionMNIST is a harder dataset than MNIST, so your accuracy will likely be lower."
      ]
    },
    {
      "cell_type": "markdown",
      "id": "behind-endorsement",
      "metadata": {
        "id": "behind-endorsement"
      },
      "source": [
        "## (Optional) Additional PyTorch resources\n",
        "- PyTorch cheat sheet: https://pytorch.org/tutorials/beginner/ptcheat.html\n",
        "- Other PyTorch tutorials: https://pytorch.org/tutorials/index.html\n",
        "- PyTorch recipes: https://pytorch.org/tutorials/recipes/recipes_index.html (bite-sized code examples on specific PyTorch features)\n",
        "- PyTorch examples: https://github.com/pytorch/examples"
      ]
    }
  ],
  "metadata": {
    "colab": {
      "provenance": []
    },
    "kernelspec": {
      "display_name": "Python 3.9.2 64-bit",
      "language": "python",
      "name": "python3"
    },
    "language_info": {
      "codemirror_mode": {
        "name": "ipython",
        "version": 3
      },
      "file_extension": ".py",
      "mimetype": "text/x-python",
      "name": "python",
      "nbconvert_exporter": "python",
      "pygments_lexer": "ipython3",
      "version": "3.9.2"
    },
    "vscode": {
      "interpreter": {
        "hash": "916dbcbb3f70747c44a77c7bcd40155683ae19c65e1c03b4aa3499c5328201f1"
      }
    },
    "widgets": {
      "application/vnd.jupyter.widget-state+json": {
        "0363c4b2f2d04e32af97ce75e81b9685": {
          "model_module": "@jupyter-widgets/controls",
          "model_module_version": "1.5.0",
          "model_name": "HTMLModel",
          "state": {
            "_dom_classes": [],
            "_model_module": "@jupyter-widgets/controls",
            "_model_module_version": "1.5.0",
            "_model_name": "HTMLModel",
            "_view_count": null,
            "_view_module": "@jupyter-widgets/controls",
            "_view_module_version": "1.5.0",
            "_view_name": "HTMLView",
            "description": "",
            "description_tooltip": null,
            "layout": "IPY_MODEL_a6058c9084e847a8ab01a99fbddbeb93",
            "placeholder": "​",
            "style": "IPY_MODEL_660cda635d244eefbfa5c4a473178ca6",
            "value": "100%"
          }
        },
        "053e3c86d1c64bcdad237f9dce6b3852": {
          "model_module": "@jupyter-widgets/base",
          "model_module_version": "1.2.0",
          "model_name": "LayoutModel",
          "state": {
            "_model_module": "@jupyter-widgets/base",
            "_model_module_version": "1.2.0",
            "_model_name": "LayoutModel",
            "_view_count": null,
            "_view_module": "@jupyter-widgets/base",
            "_view_module_version": "1.2.0",
            "_view_name": "LayoutView",
            "align_content": null,
            "align_items": null,
            "align_self": null,
            "border": null,
            "bottom": null,
            "display": null,
            "flex": null,
            "flex_flow": null,
            "grid_area": null,
            "grid_auto_columns": null,
            "grid_auto_flow": null,
            "grid_auto_rows": null,
            "grid_column": null,
            "grid_gap": null,
            "grid_row": null,
            "grid_template_areas": null,
            "grid_template_columns": null,
            "grid_template_rows": null,
            "height": null,
            "justify_content": null,
            "justify_items": null,
            "left": null,
            "margin": null,
            "max_height": null,
            "max_width": null,
            "min_height": null,
            "min_width": null,
            "object_fit": null,
            "object_position": null,
            "order": null,
            "overflow": null,
            "overflow_x": null,
            "overflow_y": null,
            "padding": null,
            "right": null,
            "top": null,
            "visibility": null,
            "width": null
          }
        },
        "06d6ca87c65a4466bf95d36cde8464db": {
          "model_module": "@jupyter-widgets/base",
          "model_module_version": "1.2.0",
          "model_name": "LayoutModel",
          "state": {
            "_model_module": "@jupyter-widgets/base",
            "_model_module_version": "1.2.0",
            "_model_name": "LayoutModel",
            "_view_count": null,
            "_view_module": "@jupyter-widgets/base",
            "_view_module_version": "1.2.0",
            "_view_name": "LayoutView",
            "align_content": null,
            "align_items": null,
            "align_self": null,
            "border": null,
            "bottom": null,
            "display": null,
            "flex": null,
            "flex_flow": null,
            "grid_area": null,
            "grid_auto_columns": null,
            "grid_auto_flow": null,
            "grid_auto_rows": null,
            "grid_column": null,
            "grid_gap": null,
            "grid_row": null,
            "grid_template_areas": null,
            "grid_template_columns": null,
            "grid_template_rows": null,
            "height": null,
            "justify_content": null,
            "justify_items": null,
            "left": null,
            "margin": null,
            "max_height": null,
            "max_width": null,
            "min_height": null,
            "min_width": null,
            "object_fit": null,
            "object_position": null,
            "order": null,
            "overflow": null,
            "overflow_x": null,
            "overflow_y": null,
            "padding": null,
            "right": null,
            "top": null,
            "visibility": null,
            "width": null
          }
        },
        "06f0a16e2cd04b1db0e5b8e9d138f3c3": {
          "model_module": "@jupyter-widgets/controls",
          "model_module_version": "1.5.0",
          "model_name": "DescriptionStyleModel",
          "state": {
            "_model_module": "@jupyter-widgets/controls",
            "_model_module_version": "1.5.0",
            "_model_name": "DescriptionStyleModel",
            "_view_count": null,
            "_view_module": "@jupyter-widgets/base",
            "_view_module_version": "1.2.0",
            "_view_name": "StyleView",
            "description_width": ""
          }
        },
        "0c13fec6e5a54222a798c52ac06cca14": {
          "model_module": "@jupyter-widgets/controls",
          "model_module_version": "1.5.0",
          "model_name": "HTMLModel",
          "state": {
            "_dom_classes": [],
            "_model_module": "@jupyter-widgets/controls",
            "_model_module_version": "1.5.0",
            "_model_name": "HTMLModel",
            "_view_count": null,
            "_view_module": "@jupyter-widgets/controls",
            "_view_module_version": "1.5.0",
            "_view_name": "HTMLView",
            "description": "",
            "description_tooltip": null,
            "layout": "IPY_MODEL_9e7cb07562064af8ba4b9eaca90577dd",
            "placeholder": "​",
            "style": "IPY_MODEL_8ed369adb8794ad8bfde4952dde26a44",
            "value": " 26421880/26421880 [00:01&lt;00:00, 27429215.06it/s]"
          }
        },
        "14472c0c633e40a2ba1b1899c15b59e8": {
          "model_module": "@jupyter-widgets/controls",
          "model_module_version": "1.5.0",
          "model_name": "FloatProgressModel",
          "state": {
            "_dom_classes": [],
            "_model_module": "@jupyter-widgets/controls",
            "_model_module_version": "1.5.0",
            "_model_name": "FloatProgressModel",
            "_view_count": null,
            "_view_module": "@jupyter-widgets/controls",
            "_view_module_version": "1.5.0",
            "_view_name": "ProgressView",
            "bar_style": "success",
            "description": "",
            "description_tooltip": null,
            "layout": "IPY_MODEL_605c7236217244d1826c3a98bded0dd6",
            "max": 313,
            "min": 0,
            "orientation": "horizontal",
            "style": "IPY_MODEL_38acf0e088244e40be267509e4783585",
            "value": 313
          }
        },
        "1670aaefbeac47d994f7853bb85f9114": {
          "model_module": "@jupyter-widgets/controls",
          "model_module_version": "1.5.0",
          "model_name": "ProgressStyleModel",
          "state": {
            "_model_module": "@jupyter-widgets/controls",
            "_model_module_version": "1.5.0",
            "_model_name": "ProgressStyleModel",
            "_view_count": null,
            "_view_module": "@jupyter-widgets/base",
            "_view_module_version": "1.2.0",
            "_view_name": "StyleView",
            "bar_color": null,
            "description_width": ""
          }
        },
        "1ec5a32f61f745f78e1a12de99bc4d98": {
          "model_module": "@jupyter-widgets/controls",
          "model_module_version": "1.5.0",
          "model_name": "FloatProgressModel",
          "state": {
            "_dom_classes": [],
            "_model_module": "@jupyter-widgets/controls",
            "_model_module_version": "1.5.0",
            "_model_name": "FloatProgressModel",
            "_view_count": null,
            "_view_module": "@jupyter-widgets/controls",
            "_view_module_version": "1.5.0",
            "_view_name": "ProgressView",
            "bar_style": "success",
            "description": "",
            "description_tooltip": null,
            "layout": "IPY_MODEL_053e3c86d1c64bcdad237f9dce6b3852",
            "max": 29515,
            "min": 0,
            "orientation": "horizontal",
            "style": "IPY_MODEL_1670aaefbeac47d994f7853bb85f9114",
            "value": 29515
          }
        },
        "20e02f6c6370472aa288dd5c8b8a1851": {
          "model_module": "@jupyter-widgets/controls",
          "model_module_version": "1.5.0",
          "model_name": "HBoxModel",
          "state": {
            "_dom_classes": [],
            "_model_module": "@jupyter-widgets/controls",
            "_model_module_version": "1.5.0",
            "_model_name": "HBoxModel",
            "_view_count": null,
            "_view_module": "@jupyter-widgets/controls",
            "_view_module_version": "1.5.0",
            "_view_name": "HBoxView",
            "box_style": "",
            "children": [
              "IPY_MODEL_3c67c3ad1faf4b3ea77c03a8ed40f9ab",
              "IPY_MODEL_a993c87a6f2d446ca51040cf2f554ca6",
              "IPY_MODEL_38f923c8d1e140859298eccf2121c482"
            ],
            "layout": "IPY_MODEL_9fc488d4f6c24688960ed098d311d35c"
          }
        },
        "235aaa829d324383a9e7f771bc7530fd": {
          "model_module": "@jupyter-widgets/controls",
          "model_module_version": "1.5.0",
          "model_name": "FloatProgressModel",
          "state": {
            "_dom_classes": [],
            "_model_module": "@jupyter-widgets/controls",
            "_model_module_version": "1.5.0",
            "_model_name": "FloatProgressModel",
            "_view_count": null,
            "_view_module": "@jupyter-widgets/controls",
            "_view_module_version": "1.5.0",
            "_view_name": "ProgressView",
            "bar_style": "success",
            "description": "",
            "description_tooltip": null,
            "layout": "IPY_MODEL_7a7112c82a0548808892a978a2b14a88",
            "max": 26421880,
            "min": 0,
            "orientation": "horizontal",
            "style": "IPY_MODEL_8aaff8cb146d4f98a3cfc0f1820c431d",
            "value": 26421880
          }
        },
        "2801203269684834b6a59fb02641be84": {
          "model_module": "@jupyter-widgets/controls",
          "model_module_version": "1.5.0",
          "model_name": "HTMLModel",
          "state": {
            "_dom_classes": [],
            "_model_module": "@jupyter-widgets/controls",
            "_model_module_version": "1.5.0",
            "_model_name": "HTMLModel",
            "_view_count": null,
            "_view_module": "@jupyter-widgets/controls",
            "_view_module_version": "1.5.0",
            "_view_name": "HTMLView",
            "description": "",
            "description_tooltip": null,
            "layout": "IPY_MODEL_d341fc0624054435bd09afc8d6d66ba9",
            "placeholder": "​",
            "style": "IPY_MODEL_fb2757fc42c84897a091ec130641afbe",
            "value": " 29515/29515 [00:00&lt;00:00, 297263.01it/s]"
          }
        },
        "2ea90f0848f44b078fb5c9e171cb5ab2": {
          "model_module": "@jupyter-widgets/base",
          "model_module_version": "1.2.0",
          "model_name": "LayoutModel",
          "state": {
            "_model_module": "@jupyter-widgets/base",
            "_model_module_version": "1.2.0",
            "_model_name": "LayoutModel",
            "_view_count": null,
            "_view_module": "@jupyter-widgets/base",
            "_view_module_version": "1.2.0",
            "_view_name": "LayoutView",
            "align_content": null,
            "align_items": null,
            "align_self": null,
            "border": null,
            "bottom": null,
            "display": null,
            "flex": null,
            "flex_flow": null,
            "grid_area": null,
            "grid_auto_columns": null,
            "grid_auto_flow": null,
            "grid_auto_rows": null,
            "grid_column": null,
            "grid_gap": null,
            "grid_row": null,
            "grid_template_areas": null,
            "grid_template_columns": null,
            "grid_template_rows": null,
            "height": null,
            "justify_content": null,
            "justify_items": null,
            "left": null,
            "margin": null,
            "max_height": null,
            "max_width": null,
            "min_height": null,
            "min_width": null,
            "object_fit": null,
            "object_position": null,
            "order": null,
            "overflow": null,
            "overflow_x": null,
            "overflow_y": null,
            "padding": null,
            "right": null,
            "top": null,
            "visibility": null,
            "width": null
          }
        },
        "37743cce1fb04eca866538b54cc8fd5c": {
          "model_module": "@jupyter-widgets/controls",
          "model_module_version": "1.5.0",
          "model_name": "DescriptionStyleModel",
          "state": {
            "_model_module": "@jupyter-widgets/controls",
            "_model_module_version": "1.5.0",
            "_model_name": "DescriptionStyleModel",
            "_view_count": null,
            "_view_module": "@jupyter-widgets/base",
            "_view_module_version": "1.2.0",
            "_view_name": "StyleView",
            "description_width": ""
          }
        },
        "38acf0e088244e40be267509e4783585": {
          "model_module": "@jupyter-widgets/controls",
          "model_module_version": "1.5.0",
          "model_name": "ProgressStyleModel",
          "state": {
            "_model_module": "@jupyter-widgets/controls",
            "_model_module_version": "1.5.0",
            "_model_name": "ProgressStyleModel",
            "_view_count": null,
            "_view_module": "@jupyter-widgets/base",
            "_view_module_version": "1.2.0",
            "_view_name": "StyleView",
            "bar_color": null,
            "description_width": ""
          }
        },
        "38f923c8d1e140859298eccf2121c482": {
          "model_module": "@jupyter-widgets/controls",
          "model_module_version": "1.5.0",
          "model_name": "HTMLModel",
          "state": {
            "_dom_classes": [],
            "_model_module": "@jupyter-widgets/controls",
            "_model_module_version": "1.5.0",
            "_model_name": "HTMLModel",
            "_view_count": null,
            "_view_module": "@jupyter-widgets/controls",
            "_view_module_version": "1.5.0",
            "_view_name": "HTMLView",
            "description": "",
            "description_tooltip": null,
            "layout": "IPY_MODEL_d3834d7e65ce40d4a0ce88916b618642",
            "placeholder": "​",
            "style": "IPY_MODEL_f1db87ecf82a4294951ae2023f87ac49",
            "value": " 4422102/4422102 [00:00&lt;00:00, 7354926.00it/s]"
          }
        },
        "39f5e26b21ac416f981487e6e54a48e7": {
          "model_module": "@jupyter-widgets/base",
          "model_module_version": "1.2.0",
          "model_name": "LayoutModel",
          "state": {
            "_model_module": "@jupyter-widgets/base",
            "_model_module_version": "1.2.0",
            "_model_name": "LayoutModel",
            "_view_count": null,
            "_view_module": "@jupyter-widgets/base",
            "_view_module_version": "1.2.0",
            "_view_name": "LayoutView",
            "align_content": null,
            "align_items": null,
            "align_self": null,
            "border": null,
            "bottom": null,
            "display": null,
            "flex": null,
            "flex_flow": null,
            "grid_area": null,
            "grid_auto_columns": null,
            "grid_auto_flow": null,
            "grid_auto_rows": null,
            "grid_column": null,
            "grid_gap": null,
            "grid_row": null,
            "grid_template_areas": null,
            "grid_template_columns": null,
            "grid_template_rows": null,
            "height": null,
            "justify_content": null,
            "justify_items": null,
            "left": null,
            "margin": null,
            "max_height": null,
            "max_width": null,
            "min_height": null,
            "min_width": null,
            "object_fit": null,
            "object_position": null,
            "order": null,
            "overflow": null,
            "overflow_x": null,
            "overflow_y": null,
            "padding": null,
            "right": null,
            "top": null,
            "visibility": null,
            "width": null
          }
        },
        "3c67c3ad1faf4b3ea77c03a8ed40f9ab": {
          "model_module": "@jupyter-widgets/controls",
          "model_module_version": "1.5.0",
          "model_name": "HTMLModel",
          "state": {
            "_dom_classes": [],
            "_model_module": "@jupyter-widgets/controls",
            "_model_module_version": "1.5.0",
            "_model_name": "HTMLModel",
            "_view_count": null,
            "_view_module": "@jupyter-widgets/controls",
            "_view_module_version": "1.5.0",
            "_view_name": "HTMLView",
            "description": "",
            "description_tooltip": null,
            "layout": "IPY_MODEL_06d6ca87c65a4466bf95d36cde8464db",
            "placeholder": "​",
            "style": "IPY_MODEL_e2edb69467d44f8bac9f4ddfcbae1d42",
            "value": "100%"
          }
        },
        "411055ef50bd4aac8f789ba05d24c5eb": {
          "model_module": "@jupyter-widgets/controls",
          "model_module_version": "1.5.0",
          "model_name": "HTMLModel",
          "state": {
            "_dom_classes": [],
            "_model_module": "@jupyter-widgets/controls",
            "_model_module_version": "1.5.0",
            "_model_name": "HTMLModel",
            "_view_count": null,
            "_view_module": "@jupyter-widgets/controls",
            "_view_module_version": "1.5.0",
            "_view_name": "HTMLView",
            "description": "",
            "description_tooltip": null,
            "layout": "IPY_MODEL_6c6a6dba7ca541fdb13e0999a5bd63a1",
            "placeholder": "​",
            "style": "IPY_MODEL_06f0a16e2cd04b1db0e5b8e9d138f3c3",
            "value": "100%"
          }
        },
        "4475bf5882084f2fa03b80ae8b4c71ec": {
          "model_module": "@jupyter-widgets/controls",
          "model_module_version": "1.5.0",
          "model_name": "HTMLModel",
          "state": {
            "_dom_classes": [],
            "_model_module": "@jupyter-widgets/controls",
            "_model_module_version": "1.5.0",
            "_model_name": "HTMLModel",
            "_view_count": null,
            "_view_module": "@jupyter-widgets/controls",
            "_view_module_version": "1.5.0",
            "_view_name": "HTMLView",
            "description": "",
            "description_tooltip": null,
            "layout": "IPY_MODEL_8a3d0014a77344cda8297586bb3c81a0",
            "placeholder": "​",
            "style": "IPY_MODEL_f65e22a60533482fbc8e064e790c17fc",
            "value": " 313/313 [00:23&lt;00:00, 274.53it/s, Acc: 6.60%]"
          }
        },
        "49bbf53d5b734f0582b2ea451908a059": {
          "model_module": "@jupyter-widgets/controls",
          "model_module_version": "1.5.0",
          "model_name": "DescriptionStyleModel",
          "state": {
            "_model_module": "@jupyter-widgets/controls",
            "_model_module_version": "1.5.0",
            "_model_name": "DescriptionStyleModel",
            "_view_count": null,
            "_view_module": "@jupyter-widgets/base",
            "_view_module_version": "1.2.0",
            "_view_name": "StyleView",
            "description_width": ""
          }
        },
        "54ff7143fb1d4d588c0d383109805537": {
          "model_module": "@jupyter-widgets/base",
          "model_module_version": "1.2.0",
          "model_name": "LayoutModel",
          "state": {
            "_model_module": "@jupyter-widgets/base",
            "_model_module_version": "1.2.0",
            "_model_name": "LayoutModel",
            "_view_count": null,
            "_view_module": "@jupyter-widgets/base",
            "_view_module_version": "1.2.0",
            "_view_name": "LayoutView",
            "align_content": null,
            "align_items": null,
            "align_self": null,
            "border": null,
            "bottom": null,
            "display": null,
            "flex": null,
            "flex_flow": null,
            "grid_area": null,
            "grid_auto_columns": null,
            "grid_auto_flow": null,
            "grid_auto_rows": null,
            "grid_column": null,
            "grid_gap": null,
            "grid_row": null,
            "grid_template_areas": null,
            "grid_template_columns": null,
            "grid_template_rows": null,
            "height": null,
            "justify_content": null,
            "justify_items": null,
            "left": null,
            "margin": null,
            "max_height": null,
            "max_width": null,
            "min_height": null,
            "min_width": null,
            "object_fit": null,
            "object_position": null,
            "order": null,
            "overflow": null,
            "overflow_x": null,
            "overflow_y": null,
            "padding": null,
            "right": null,
            "top": null,
            "visibility": null,
            "width": null
          }
        },
        "55f32770ac204a9383e434506a77052f": {
          "model_module": "@jupyter-widgets/base",
          "model_module_version": "1.2.0",
          "model_name": "LayoutModel",
          "state": {
            "_model_module": "@jupyter-widgets/base",
            "_model_module_version": "1.2.0",
            "_model_name": "LayoutModel",
            "_view_count": null,
            "_view_module": "@jupyter-widgets/base",
            "_view_module_version": "1.2.0",
            "_view_name": "LayoutView",
            "align_content": null,
            "align_items": null,
            "align_self": null,
            "border": null,
            "bottom": null,
            "display": null,
            "flex": null,
            "flex_flow": null,
            "grid_area": null,
            "grid_auto_columns": null,
            "grid_auto_flow": null,
            "grid_auto_rows": null,
            "grid_column": null,
            "grid_gap": null,
            "grid_row": null,
            "grid_template_areas": null,
            "grid_template_columns": null,
            "grid_template_rows": null,
            "height": null,
            "justify_content": null,
            "justify_items": null,
            "left": null,
            "margin": null,
            "max_height": null,
            "max_width": null,
            "min_height": null,
            "min_width": null,
            "object_fit": null,
            "object_position": null,
            "order": null,
            "overflow": null,
            "overflow_x": null,
            "overflow_y": null,
            "padding": null,
            "right": null,
            "top": null,
            "visibility": null,
            "width": null
          }
        },
        "605c7236217244d1826c3a98bded0dd6": {
          "model_module": "@jupyter-widgets/base",
          "model_module_version": "1.2.0",
          "model_name": "LayoutModel",
          "state": {
            "_model_module": "@jupyter-widgets/base",
            "_model_module_version": "1.2.0",
            "_model_name": "LayoutModel",
            "_view_count": null,
            "_view_module": "@jupyter-widgets/base",
            "_view_module_version": "1.2.0",
            "_view_name": "LayoutView",
            "align_content": null,
            "align_items": null,
            "align_self": null,
            "border": null,
            "bottom": null,
            "display": null,
            "flex": null,
            "flex_flow": null,
            "grid_area": null,
            "grid_auto_columns": null,
            "grid_auto_flow": null,
            "grid_auto_rows": null,
            "grid_column": null,
            "grid_gap": null,
            "grid_row": null,
            "grid_template_areas": null,
            "grid_template_columns": null,
            "grid_template_rows": null,
            "height": null,
            "justify_content": null,
            "justify_items": null,
            "left": null,
            "margin": null,
            "max_height": null,
            "max_width": null,
            "min_height": null,
            "min_width": null,
            "object_fit": null,
            "object_position": null,
            "order": null,
            "overflow": null,
            "overflow_x": null,
            "overflow_y": null,
            "padding": null,
            "right": null,
            "top": null,
            "visibility": null,
            "width": null
          }
        },
        "660cda635d244eefbfa5c4a473178ca6": {
          "model_module": "@jupyter-widgets/controls",
          "model_module_version": "1.5.0",
          "model_name": "DescriptionStyleModel",
          "state": {
            "_model_module": "@jupyter-widgets/controls",
            "_model_module_version": "1.5.0",
            "_model_name": "DescriptionStyleModel",
            "_view_count": null,
            "_view_module": "@jupyter-widgets/base",
            "_view_module_version": "1.2.0",
            "_view_name": "StyleView",
            "description_width": ""
          }
        },
        "6c6a6dba7ca541fdb13e0999a5bd63a1": {
          "model_module": "@jupyter-widgets/base",
          "model_module_version": "1.2.0",
          "model_name": "LayoutModel",
          "state": {
            "_model_module": "@jupyter-widgets/base",
            "_model_module_version": "1.2.0",
            "_model_name": "LayoutModel",
            "_view_count": null,
            "_view_module": "@jupyter-widgets/base",
            "_view_module_version": "1.2.0",
            "_view_name": "LayoutView",
            "align_content": null,
            "align_items": null,
            "align_self": null,
            "border": null,
            "bottom": null,
            "display": null,
            "flex": null,
            "flex_flow": null,
            "grid_area": null,
            "grid_auto_columns": null,
            "grid_auto_flow": null,
            "grid_auto_rows": null,
            "grid_column": null,
            "grid_gap": null,
            "grid_row": null,
            "grid_template_areas": null,
            "grid_template_columns": null,
            "grid_template_rows": null,
            "height": null,
            "justify_content": null,
            "justify_items": null,
            "left": null,
            "margin": null,
            "max_height": null,
            "max_width": null,
            "min_height": null,
            "min_width": null,
            "object_fit": null,
            "object_position": null,
            "order": null,
            "overflow": null,
            "overflow_x": null,
            "overflow_y": null,
            "padding": null,
            "right": null,
            "top": null,
            "visibility": null,
            "width": null
          }
        },
        "766d099b9eaf4b01965fcfeb3fe706f6": {
          "model_module": "@jupyter-widgets/controls",
          "model_module_version": "1.5.0",
          "model_name": "ProgressStyleModel",
          "state": {
            "_model_module": "@jupyter-widgets/controls",
            "_model_module_version": "1.5.0",
            "_model_name": "ProgressStyleModel",
            "_view_count": null,
            "_view_module": "@jupyter-widgets/base",
            "_view_module_version": "1.2.0",
            "_view_name": "StyleView",
            "bar_color": null,
            "description_width": ""
          }
        },
        "796bedfad34c4422ace5c853eb198f10": {
          "model_module": "@jupyter-widgets/controls",
          "model_module_version": "1.5.0",
          "model_name": "FloatProgressModel",
          "state": {
            "_dom_classes": [],
            "_model_module": "@jupyter-widgets/controls",
            "_model_module_version": "1.5.0",
            "_model_name": "FloatProgressModel",
            "_view_count": null,
            "_view_module": "@jupyter-widgets/controls",
            "_view_module_version": "1.5.0",
            "_view_name": "ProgressView",
            "bar_style": "success",
            "description": "",
            "description_tooltip": null,
            "layout": "IPY_MODEL_e065826abb474c5ea6b32efec9c39fad",
            "max": 5148,
            "min": 0,
            "orientation": "horizontal",
            "style": "IPY_MODEL_e3e4b0a6c6514f4593ce181a9aaf0320",
            "value": 5148
          }
        },
        "7a7112c82a0548808892a978a2b14a88": {
          "model_module": "@jupyter-widgets/base",
          "model_module_version": "1.2.0",
          "model_name": "LayoutModel",
          "state": {
            "_model_module": "@jupyter-widgets/base",
            "_model_module_version": "1.2.0",
            "_model_name": "LayoutModel",
            "_view_count": null,
            "_view_module": "@jupyter-widgets/base",
            "_view_module_version": "1.2.0",
            "_view_name": "LayoutView",
            "align_content": null,
            "align_items": null,
            "align_self": null,
            "border": null,
            "bottom": null,
            "display": null,
            "flex": null,
            "flex_flow": null,
            "grid_area": null,
            "grid_auto_columns": null,
            "grid_auto_flow": null,
            "grid_auto_rows": null,
            "grid_column": null,
            "grid_gap": null,
            "grid_row": null,
            "grid_template_areas": null,
            "grid_template_columns": null,
            "grid_template_rows": null,
            "height": null,
            "justify_content": null,
            "justify_items": null,
            "left": null,
            "margin": null,
            "max_height": null,
            "max_width": null,
            "min_height": null,
            "min_width": null,
            "object_fit": null,
            "object_position": null,
            "order": null,
            "overflow": null,
            "overflow_x": null,
            "overflow_y": null,
            "padding": null,
            "right": null,
            "top": null,
            "visibility": null,
            "width": null
          }
        },
        "7bccd42c35c042ad9dc48d374415e22a": {
          "model_module": "@jupyter-widgets/controls",
          "model_module_version": "1.5.0",
          "model_name": "HBoxModel",
          "state": {
            "_dom_classes": [],
            "_model_module": "@jupyter-widgets/controls",
            "_model_module_version": "1.5.0",
            "_model_name": "HBoxModel",
            "_view_count": null,
            "_view_module": "@jupyter-widgets/controls",
            "_view_module_version": "1.5.0",
            "_view_name": "HBoxView",
            "box_style": "",
            "children": [
              "IPY_MODEL_f8172fcf47b444a18cfe21801052d9be",
              "IPY_MODEL_1ec5a32f61f745f78e1a12de99bc4d98",
              "IPY_MODEL_2801203269684834b6a59fb02641be84"
            ],
            "layout": "IPY_MODEL_2ea90f0848f44b078fb5c9e171cb5ab2"
          }
        },
        "7c42405c68ea4a97a169a5494aa918e8": {
          "model_module": "@jupyter-widgets/controls",
          "model_module_version": "1.5.0",
          "model_name": "FloatProgressModel",
          "state": {
            "_dom_classes": [],
            "_model_module": "@jupyter-widgets/controls",
            "_model_module_version": "1.5.0",
            "_model_name": "FloatProgressModel",
            "_view_count": null,
            "_view_module": "@jupyter-widgets/controls",
            "_view_module_version": "1.5.0",
            "_view_name": "ProgressView",
            "bar_style": "success",
            "description": "",
            "description_tooltip": null,
            "layout": "IPY_MODEL_dcd6fba1e8a042979d70da4738825c99",
            "max": 313,
            "min": 0,
            "orientation": "horizontal",
            "style": "IPY_MODEL_766d099b9eaf4b01965fcfeb3fe706f6",
            "value": 313
          }
        },
        "80bc01c912844f16a528919f2f8142c9": {
          "model_module": "@jupyter-widgets/base",
          "model_module_version": "1.2.0",
          "model_name": "LayoutModel",
          "state": {
            "_model_module": "@jupyter-widgets/base",
            "_model_module_version": "1.2.0",
            "_model_name": "LayoutModel",
            "_view_count": null,
            "_view_module": "@jupyter-widgets/base",
            "_view_module_version": "1.2.0",
            "_view_name": "LayoutView",
            "align_content": null,
            "align_items": null,
            "align_self": null,
            "border": null,
            "bottom": null,
            "display": null,
            "flex": null,
            "flex_flow": null,
            "grid_area": null,
            "grid_auto_columns": null,
            "grid_auto_flow": null,
            "grid_auto_rows": null,
            "grid_column": null,
            "grid_gap": null,
            "grid_row": null,
            "grid_template_areas": null,
            "grid_template_columns": null,
            "grid_template_rows": null,
            "height": null,
            "justify_content": null,
            "justify_items": null,
            "left": null,
            "margin": null,
            "max_height": null,
            "max_width": null,
            "min_height": null,
            "min_width": null,
            "object_fit": null,
            "object_position": null,
            "order": null,
            "overflow": null,
            "overflow_x": null,
            "overflow_y": null,
            "padding": null,
            "right": null,
            "top": null,
            "visibility": null,
            "width": null
          }
        },
        "822289eeba8a48ceab6f013ddc71491e": {
          "model_module": "@jupyter-widgets/controls",
          "model_module_version": "1.5.0",
          "model_name": "HBoxModel",
          "state": {
            "_dom_classes": [],
            "_model_module": "@jupyter-widgets/controls",
            "_model_module_version": "1.5.0",
            "_model_name": "HBoxModel",
            "_view_count": null,
            "_view_module": "@jupyter-widgets/controls",
            "_view_module_version": "1.5.0",
            "_view_name": "HBoxView",
            "box_style": "",
            "children": [
              "IPY_MODEL_411055ef50bd4aac8f789ba05d24c5eb",
              "IPY_MODEL_235aaa829d324383a9e7f771bc7530fd",
              "IPY_MODEL_0c13fec6e5a54222a798c52ac06cca14"
            ],
            "layout": "IPY_MODEL_54ff7143fb1d4d588c0d383109805537"
          }
        },
        "8a3d0014a77344cda8297586bb3c81a0": {
          "model_module": "@jupyter-widgets/base",
          "model_module_version": "1.2.0",
          "model_name": "LayoutModel",
          "state": {
            "_model_module": "@jupyter-widgets/base",
            "_model_module_version": "1.2.0",
            "_model_name": "LayoutModel",
            "_view_count": null,
            "_view_module": "@jupyter-widgets/base",
            "_view_module_version": "1.2.0",
            "_view_name": "LayoutView",
            "align_content": null,
            "align_items": null,
            "align_self": null,
            "border": null,
            "bottom": null,
            "display": null,
            "flex": null,
            "flex_flow": null,
            "grid_area": null,
            "grid_auto_columns": null,
            "grid_auto_flow": null,
            "grid_auto_rows": null,
            "grid_column": null,
            "grid_gap": null,
            "grid_row": null,
            "grid_template_areas": null,
            "grid_template_columns": null,
            "grid_template_rows": null,
            "height": null,
            "justify_content": null,
            "justify_items": null,
            "left": null,
            "margin": null,
            "max_height": null,
            "max_width": null,
            "min_height": null,
            "min_width": null,
            "object_fit": null,
            "object_position": null,
            "order": null,
            "overflow": null,
            "overflow_x": null,
            "overflow_y": null,
            "padding": null,
            "right": null,
            "top": null,
            "visibility": null,
            "width": null
          }
        },
        "8aaff8cb146d4f98a3cfc0f1820c431d": {
          "model_module": "@jupyter-widgets/controls",
          "model_module_version": "1.5.0",
          "model_name": "ProgressStyleModel",
          "state": {
            "_model_module": "@jupyter-widgets/controls",
            "_model_module_version": "1.5.0",
            "_model_name": "ProgressStyleModel",
            "_view_count": null,
            "_view_module": "@jupyter-widgets/base",
            "_view_module_version": "1.2.0",
            "_view_name": "StyleView",
            "bar_color": null,
            "description_width": ""
          }
        },
        "8ed369adb8794ad8bfde4952dde26a44": {
          "model_module": "@jupyter-widgets/controls",
          "model_module_version": "1.5.0",
          "model_name": "DescriptionStyleModel",
          "state": {
            "_model_module": "@jupyter-widgets/controls",
            "_model_module_version": "1.5.0",
            "_model_name": "DescriptionStyleModel",
            "_view_count": null,
            "_view_module": "@jupyter-widgets/base",
            "_view_module_version": "1.2.0",
            "_view_name": "StyleView",
            "description_width": ""
          }
        },
        "9d3e7ea117884ae88505cbe2b2ce64ed": {
          "model_module": "@jupyter-widgets/controls",
          "model_module_version": "1.5.0",
          "model_name": "ProgressStyleModel",
          "state": {
            "_model_module": "@jupyter-widgets/controls",
            "_model_module_version": "1.5.0",
            "_model_name": "ProgressStyleModel",
            "_view_count": null,
            "_view_module": "@jupyter-widgets/base",
            "_view_module_version": "1.2.0",
            "_view_name": "StyleView",
            "bar_color": null,
            "description_width": ""
          }
        },
        "9e7cb07562064af8ba4b9eaca90577dd": {
          "model_module": "@jupyter-widgets/base",
          "model_module_version": "1.2.0",
          "model_name": "LayoutModel",
          "state": {
            "_model_module": "@jupyter-widgets/base",
            "_model_module_version": "1.2.0",
            "_model_name": "LayoutModel",
            "_view_count": null,
            "_view_module": "@jupyter-widgets/base",
            "_view_module_version": "1.2.0",
            "_view_name": "LayoutView",
            "align_content": null,
            "align_items": null,
            "align_self": null,
            "border": null,
            "bottom": null,
            "display": null,
            "flex": null,
            "flex_flow": null,
            "grid_area": null,
            "grid_auto_columns": null,
            "grid_auto_flow": null,
            "grid_auto_rows": null,
            "grid_column": null,
            "grid_gap": null,
            "grid_row": null,
            "grid_template_areas": null,
            "grid_template_columns": null,
            "grid_template_rows": null,
            "height": null,
            "justify_content": null,
            "justify_items": null,
            "left": null,
            "margin": null,
            "max_height": null,
            "max_width": null,
            "min_height": null,
            "min_width": null,
            "object_fit": null,
            "object_position": null,
            "order": null,
            "overflow": null,
            "overflow_x": null,
            "overflow_y": null,
            "padding": null,
            "right": null,
            "top": null,
            "visibility": null,
            "width": null
          }
        },
        "9e9a8dbfcdce4b809e28a6389625d914": {
          "model_module": "@jupyter-widgets/controls",
          "model_module_version": "1.5.0",
          "model_name": "HBoxModel",
          "state": {
            "_dom_classes": [],
            "_model_module": "@jupyter-widgets/controls",
            "_model_module_version": "1.5.0",
            "_model_name": "HBoxModel",
            "_view_count": null,
            "_view_module": "@jupyter-widgets/controls",
            "_view_module_version": "1.5.0",
            "_view_name": "HBoxView",
            "box_style": "",
            "children": [
              "IPY_MODEL_b2a832eaf9f5455f9adf423a0ef53739",
              "IPY_MODEL_14472c0c633e40a2ba1b1899c15b59e8",
              "IPY_MODEL_a9d486ffca9a418ba72abe3986fc61f8"
            ],
            "layout": "IPY_MODEL_80bc01c912844f16a528919f2f8142c9"
          }
        },
        "9fc488d4f6c24688960ed098d311d35c": {
          "model_module": "@jupyter-widgets/base",
          "model_module_version": "1.2.0",
          "model_name": "LayoutModel",
          "state": {
            "_model_module": "@jupyter-widgets/base",
            "_model_module_version": "1.2.0",
            "_model_name": "LayoutModel",
            "_view_count": null,
            "_view_module": "@jupyter-widgets/base",
            "_view_module_version": "1.2.0",
            "_view_name": "LayoutView",
            "align_content": null,
            "align_items": null,
            "align_self": null,
            "border": null,
            "bottom": null,
            "display": null,
            "flex": null,
            "flex_flow": null,
            "grid_area": null,
            "grid_auto_columns": null,
            "grid_auto_flow": null,
            "grid_auto_rows": null,
            "grid_column": null,
            "grid_gap": null,
            "grid_row": null,
            "grid_template_areas": null,
            "grid_template_columns": null,
            "grid_template_rows": null,
            "height": null,
            "justify_content": null,
            "justify_items": null,
            "left": null,
            "margin": null,
            "max_height": null,
            "max_width": null,
            "min_height": null,
            "min_width": null,
            "object_fit": null,
            "object_position": null,
            "order": null,
            "overflow": null,
            "overflow_x": null,
            "overflow_y": null,
            "padding": null,
            "right": null,
            "top": null,
            "visibility": null,
            "width": null
          }
        },
        "a6058c9084e847a8ab01a99fbddbeb93": {
          "model_module": "@jupyter-widgets/base",
          "model_module_version": "1.2.0",
          "model_name": "LayoutModel",
          "state": {
            "_model_module": "@jupyter-widgets/base",
            "_model_module_version": "1.2.0",
            "_model_name": "LayoutModel",
            "_view_count": null,
            "_view_module": "@jupyter-widgets/base",
            "_view_module_version": "1.2.0",
            "_view_name": "LayoutView",
            "align_content": null,
            "align_items": null,
            "align_self": null,
            "border": null,
            "bottom": null,
            "display": null,
            "flex": null,
            "flex_flow": null,
            "grid_area": null,
            "grid_auto_columns": null,
            "grid_auto_flow": null,
            "grid_auto_rows": null,
            "grid_column": null,
            "grid_gap": null,
            "grid_row": null,
            "grid_template_areas": null,
            "grid_template_columns": null,
            "grid_template_rows": null,
            "height": null,
            "justify_content": null,
            "justify_items": null,
            "left": null,
            "margin": null,
            "max_height": null,
            "max_width": null,
            "min_height": null,
            "min_width": null,
            "object_fit": null,
            "object_position": null,
            "order": null,
            "overflow": null,
            "overflow_x": null,
            "overflow_y": null,
            "padding": null,
            "right": null,
            "top": null,
            "visibility": null,
            "width": null
          }
        },
        "a625c5ec92aa4e1f90e3cc62acde9cf1": {
          "model_module": "@jupyter-widgets/base",
          "model_module_version": "1.2.0",
          "model_name": "LayoutModel",
          "state": {
            "_model_module": "@jupyter-widgets/base",
            "_model_module_version": "1.2.0",
            "_model_name": "LayoutModel",
            "_view_count": null,
            "_view_module": "@jupyter-widgets/base",
            "_view_module_version": "1.2.0",
            "_view_name": "LayoutView",
            "align_content": null,
            "align_items": null,
            "align_self": null,
            "border": null,
            "bottom": null,
            "display": null,
            "flex": null,
            "flex_flow": null,
            "grid_area": null,
            "grid_auto_columns": null,
            "grid_auto_flow": null,
            "grid_auto_rows": null,
            "grid_column": null,
            "grid_gap": null,
            "grid_row": null,
            "grid_template_areas": null,
            "grid_template_columns": null,
            "grid_template_rows": null,
            "height": null,
            "justify_content": null,
            "justify_items": null,
            "left": null,
            "margin": null,
            "max_height": null,
            "max_width": null,
            "min_height": null,
            "min_width": null,
            "object_fit": null,
            "object_position": null,
            "order": null,
            "overflow": null,
            "overflow_x": null,
            "overflow_y": null,
            "padding": null,
            "right": null,
            "top": null,
            "visibility": null,
            "width": null
          }
        },
        "a6659418702440ddad413dae8f7e126b": {
          "model_module": "@jupyter-widgets/base",
          "model_module_version": "1.2.0",
          "model_name": "LayoutModel",
          "state": {
            "_model_module": "@jupyter-widgets/base",
            "_model_module_version": "1.2.0",
            "_model_name": "LayoutModel",
            "_view_count": null,
            "_view_module": "@jupyter-widgets/base",
            "_view_module_version": "1.2.0",
            "_view_name": "LayoutView",
            "align_content": null,
            "align_items": null,
            "align_self": null,
            "border": null,
            "bottom": null,
            "display": null,
            "flex": null,
            "flex_flow": null,
            "grid_area": null,
            "grid_auto_columns": null,
            "grid_auto_flow": null,
            "grid_auto_rows": null,
            "grid_column": null,
            "grid_gap": null,
            "grid_row": null,
            "grid_template_areas": null,
            "grid_template_columns": null,
            "grid_template_rows": null,
            "height": null,
            "justify_content": null,
            "justify_items": null,
            "left": null,
            "margin": null,
            "max_height": null,
            "max_width": null,
            "min_height": null,
            "min_width": null,
            "object_fit": null,
            "object_position": null,
            "order": null,
            "overflow": null,
            "overflow_x": null,
            "overflow_y": null,
            "padding": null,
            "right": null,
            "top": null,
            "visibility": null,
            "width": null
          }
        },
        "a7f2f355eae14bcc9faee8d3effd2641": {
          "model_module": "@jupyter-widgets/base",
          "model_module_version": "1.2.0",
          "model_name": "LayoutModel",
          "state": {
            "_model_module": "@jupyter-widgets/base",
            "_model_module_version": "1.2.0",
            "_model_name": "LayoutModel",
            "_view_count": null,
            "_view_module": "@jupyter-widgets/base",
            "_view_module_version": "1.2.0",
            "_view_name": "LayoutView",
            "align_content": null,
            "align_items": null,
            "align_self": null,
            "border": null,
            "bottom": null,
            "display": null,
            "flex": null,
            "flex_flow": null,
            "grid_area": null,
            "grid_auto_columns": null,
            "grid_auto_flow": null,
            "grid_auto_rows": null,
            "grid_column": null,
            "grid_gap": null,
            "grid_row": null,
            "grid_template_areas": null,
            "grid_template_columns": null,
            "grid_template_rows": null,
            "height": null,
            "justify_content": null,
            "justify_items": null,
            "left": null,
            "margin": null,
            "max_height": null,
            "max_width": null,
            "min_height": null,
            "min_width": null,
            "object_fit": null,
            "object_position": null,
            "order": null,
            "overflow": null,
            "overflow_x": null,
            "overflow_y": null,
            "padding": null,
            "right": null,
            "top": null,
            "visibility": null,
            "width": null
          }
        },
        "a993c87a6f2d446ca51040cf2f554ca6": {
          "model_module": "@jupyter-widgets/controls",
          "model_module_version": "1.5.0",
          "model_name": "FloatProgressModel",
          "state": {
            "_dom_classes": [],
            "_model_module": "@jupyter-widgets/controls",
            "_model_module_version": "1.5.0",
            "_model_name": "FloatProgressModel",
            "_view_count": null,
            "_view_module": "@jupyter-widgets/controls",
            "_view_module_version": "1.5.0",
            "_view_name": "ProgressView",
            "bar_style": "success",
            "description": "",
            "description_tooltip": null,
            "layout": "IPY_MODEL_a7f2f355eae14bcc9faee8d3effd2641",
            "max": 4422102,
            "min": 0,
            "orientation": "horizontal",
            "style": "IPY_MODEL_9d3e7ea117884ae88505cbe2b2ce64ed",
            "value": 4422102
          }
        },
        "a9d486ffca9a418ba72abe3986fc61f8": {
          "model_module": "@jupyter-widgets/controls",
          "model_module_version": "1.5.0",
          "model_name": "HTMLModel",
          "state": {
            "_dom_classes": [],
            "_model_module": "@jupyter-widgets/controls",
            "_model_module_version": "1.5.0",
            "_model_name": "HTMLModel",
            "_view_count": null,
            "_view_module": "@jupyter-widgets/controls",
            "_view_module_version": "1.5.0",
            "_view_name": "HTMLView",
            "description": "",
            "description_tooltip": null,
            "layout": "IPY_MODEL_a625c5ec92aa4e1f90e3cc62acde9cf1",
            "placeholder": "​",
            "style": "IPY_MODEL_df648dbb862a4090b51dba602aa7f301",
            "value": " 313/313 [00:03&lt;00:00, 276.22it/s, Acc: 10.00%]"
          }
        },
        "b2a832eaf9f5455f9adf423a0ef53739": {
          "model_module": "@jupyter-widgets/controls",
          "model_module_version": "1.5.0",
          "model_name": "HTMLModel",
          "state": {
            "_dom_classes": [],
            "_model_module": "@jupyter-widgets/controls",
            "_model_module_version": "1.5.0",
            "_model_name": "HTMLModel",
            "_view_count": null,
            "_view_module": "@jupyter-widgets/controls",
            "_view_module_version": "1.5.0",
            "_view_name": "HTMLView",
            "description": "",
            "description_tooltip": null,
            "layout": "IPY_MODEL_c308499a242549dcb819666d42f21445",
            "placeholder": "​",
            "style": "IPY_MODEL_da1e9fa29e18474c9e9714cb1c279609",
            "value": "100%"
          }
        },
        "b8de7c62407048cfa6482550410b02cf": {
          "model_module": "@jupyter-widgets/controls",
          "model_module_version": "1.5.0",
          "model_name": "HTMLModel",
          "state": {
            "_dom_classes": [],
            "_model_module": "@jupyter-widgets/controls",
            "_model_module_version": "1.5.0",
            "_model_name": "HTMLModel",
            "_view_count": null,
            "_view_module": "@jupyter-widgets/controls",
            "_view_module_version": "1.5.0",
            "_view_name": "HTMLView",
            "description": "",
            "description_tooltip": null,
            "layout": "IPY_MODEL_39f5e26b21ac416f981487e6e54a48e7",
            "placeholder": "​",
            "style": "IPY_MODEL_49bbf53d5b734f0582b2ea451908a059",
            "value": "100%"
          }
        },
        "c29f5205134b4c70bf1667c44b794a22": {
          "model_module": "@jupyter-widgets/controls",
          "model_module_version": "1.5.0",
          "model_name": "DescriptionStyleModel",
          "state": {
            "_model_module": "@jupyter-widgets/controls",
            "_model_module_version": "1.5.0",
            "_model_name": "DescriptionStyleModel",
            "_view_count": null,
            "_view_module": "@jupyter-widgets/base",
            "_view_module_version": "1.2.0",
            "_view_name": "StyleView",
            "description_width": ""
          }
        },
        "c308499a242549dcb819666d42f21445": {
          "model_module": "@jupyter-widgets/base",
          "model_module_version": "1.2.0",
          "model_name": "LayoutModel",
          "state": {
            "_model_module": "@jupyter-widgets/base",
            "_model_module_version": "1.2.0",
            "_model_name": "LayoutModel",
            "_view_count": null,
            "_view_module": "@jupyter-widgets/base",
            "_view_module_version": "1.2.0",
            "_view_name": "LayoutView",
            "align_content": null,
            "align_items": null,
            "align_self": null,
            "border": null,
            "bottom": null,
            "display": null,
            "flex": null,
            "flex_flow": null,
            "grid_area": null,
            "grid_auto_columns": null,
            "grid_auto_flow": null,
            "grid_auto_rows": null,
            "grid_column": null,
            "grid_gap": null,
            "grid_row": null,
            "grid_template_areas": null,
            "grid_template_columns": null,
            "grid_template_rows": null,
            "height": null,
            "justify_content": null,
            "justify_items": null,
            "left": null,
            "margin": null,
            "max_height": null,
            "max_width": null,
            "min_height": null,
            "min_width": null,
            "object_fit": null,
            "object_position": null,
            "order": null,
            "overflow": null,
            "overflow_x": null,
            "overflow_y": null,
            "padding": null,
            "right": null,
            "top": null,
            "visibility": null,
            "width": null
          }
        },
        "cd1b42892be54c7abf828717ba0b8a80": {
          "model_module": "@jupyter-widgets/controls",
          "model_module_version": "1.5.0",
          "model_name": "HBoxModel",
          "state": {
            "_dom_classes": [],
            "_model_module": "@jupyter-widgets/controls",
            "_model_module_version": "1.5.0",
            "_model_name": "HBoxModel",
            "_view_count": null,
            "_view_module": "@jupyter-widgets/controls",
            "_view_module_version": "1.5.0",
            "_view_name": "HBoxView",
            "box_style": "",
            "children": [
              "IPY_MODEL_0363c4b2f2d04e32af97ce75e81b9685",
              "IPY_MODEL_796bedfad34c4422ace5c853eb198f10",
              "IPY_MODEL_e26b40fbf69c46949ce0a9f7bc74cefe"
            ],
            "layout": "IPY_MODEL_eab39976194b4302ada7717857a36b29"
          }
        },
        "d341fc0624054435bd09afc8d6d66ba9": {
          "model_module": "@jupyter-widgets/base",
          "model_module_version": "1.2.0",
          "model_name": "LayoutModel",
          "state": {
            "_model_module": "@jupyter-widgets/base",
            "_model_module_version": "1.2.0",
            "_model_name": "LayoutModel",
            "_view_count": null,
            "_view_module": "@jupyter-widgets/base",
            "_view_module_version": "1.2.0",
            "_view_name": "LayoutView",
            "align_content": null,
            "align_items": null,
            "align_self": null,
            "border": null,
            "bottom": null,
            "display": null,
            "flex": null,
            "flex_flow": null,
            "grid_area": null,
            "grid_auto_columns": null,
            "grid_auto_flow": null,
            "grid_auto_rows": null,
            "grid_column": null,
            "grid_gap": null,
            "grid_row": null,
            "grid_template_areas": null,
            "grid_template_columns": null,
            "grid_template_rows": null,
            "height": null,
            "justify_content": null,
            "justify_items": null,
            "left": null,
            "margin": null,
            "max_height": null,
            "max_width": null,
            "min_height": null,
            "min_width": null,
            "object_fit": null,
            "object_position": null,
            "order": null,
            "overflow": null,
            "overflow_x": null,
            "overflow_y": null,
            "padding": null,
            "right": null,
            "top": null,
            "visibility": null,
            "width": null
          }
        },
        "d3834d7e65ce40d4a0ce88916b618642": {
          "model_module": "@jupyter-widgets/base",
          "model_module_version": "1.2.0",
          "model_name": "LayoutModel",
          "state": {
            "_model_module": "@jupyter-widgets/base",
            "_model_module_version": "1.2.0",
            "_model_name": "LayoutModel",
            "_view_count": null,
            "_view_module": "@jupyter-widgets/base",
            "_view_module_version": "1.2.0",
            "_view_name": "LayoutView",
            "align_content": null,
            "align_items": null,
            "align_self": null,
            "border": null,
            "bottom": null,
            "display": null,
            "flex": null,
            "flex_flow": null,
            "grid_area": null,
            "grid_auto_columns": null,
            "grid_auto_flow": null,
            "grid_auto_rows": null,
            "grid_column": null,
            "grid_gap": null,
            "grid_row": null,
            "grid_template_areas": null,
            "grid_template_columns": null,
            "grid_template_rows": null,
            "height": null,
            "justify_content": null,
            "justify_items": null,
            "left": null,
            "margin": null,
            "max_height": null,
            "max_width": null,
            "min_height": null,
            "min_width": null,
            "object_fit": null,
            "object_position": null,
            "order": null,
            "overflow": null,
            "overflow_x": null,
            "overflow_y": null,
            "padding": null,
            "right": null,
            "top": null,
            "visibility": null,
            "width": null
          }
        },
        "da1e9fa29e18474c9e9714cb1c279609": {
          "model_module": "@jupyter-widgets/controls",
          "model_module_version": "1.5.0",
          "model_name": "DescriptionStyleModel",
          "state": {
            "_model_module": "@jupyter-widgets/controls",
            "_model_module_version": "1.5.0",
            "_model_name": "DescriptionStyleModel",
            "_view_count": null,
            "_view_module": "@jupyter-widgets/base",
            "_view_module_version": "1.2.0",
            "_view_name": "StyleView",
            "description_width": ""
          }
        },
        "dcd6fba1e8a042979d70da4738825c99": {
          "model_module": "@jupyter-widgets/base",
          "model_module_version": "1.2.0",
          "model_name": "LayoutModel",
          "state": {
            "_model_module": "@jupyter-widgets/base",
            "_model_module_version": "1.2.0",
            "_model_name": "LayoutModel",
            "_view_count": null,
            "_view_module": "@jupyter-widgets/base",
            "_view_module_version": "1.2.0",
            "_view_name": "LayoutView",
            "align_content": null,
            "align_items": null,
            "align_self": null,
            "border": null,
            "bottom": null,
            "display": null,
            "flex": null,
            "flex_flow": null,
            "grid_area": null,
            "grid_auto_columns": null,
            "grid_auto_flow": null,
            "grid_auto_rows": null,
            "grid_column": null,
            "grid_gap": null,
            "grid_row": null,
            "grid_template_areas": null,
            "grid_template_columns": null,
            "grid_template_rows": null,
            "height": null,
            "justify_content": null,
            "justify_items": null,
            "left": null,
            "margin": null,
            "max_height": null,
            "max_width": null,
            "min_height": null,
            "min_width": null,
            "object_fit": null,
            "object_position": null,
            "order": null,
            "overflow": null,
            "overflow_x": null,
            "overflow_y": null,
            "padding": null,
            "right": null,
            "top": null,
            "visibility": null,
            "width": null
          }
        },
        "de5b12ce659a4f3cb7eb8e6dfe97c3a2": {
          "model_module": "@jupyter-widgets/controls",
          "model_module_version": "1.5.0",
          "model_name": "HBoxModel",
          "state": {
            "_dom_classes": [],
            "_model_module": "@jupyter-widgets/controls",
            "_model_module_version": "1.5.0",
            "_model_name": "HBoxModel",
            "_view_count": null,
            "_view_module": "@jupyter-widgets/controls",
            "_view_module_version": "1.5.0",
            "_view_name": "HBoxView",
            "box_style": "",
            "children": [
              "IPY_MODEL_b8de7c62407048cfa6482550410b02cf",
              "IPY_MODEL_7c42405c68ea4a97a169a5494aa918e8",
              "IPY_MODEL_4475bf5882084f2fa03b80ae8b4c71ec"
            ],
            "layout": "IPY_MODEL_f586ea0c2863481f957fe2c7f18ee1c3"
          }
        },
        "df648dbb862a4090b51dba602aa7f301": {
          "model_module": "@jupyter-widgets/controls",
          "model_module_version": "1.5.0",
          "model_name": "DescriptionStyleModel",
          "state": {
            "_model_module": "@jupyter-widgets/controls",
            "_model_module_version": "1.5.0",
            "_model_name": "DescriptionStyleModel",
            "_view_count": null,
            "_view_module": "@jupyter-widgets/base",
            "_view_module_version": "1.2.0",
            "_view_name": "StyleView",
            "description_width": ""
          }
        },
        "e065826abb474c5ea6b32efec9c39fad": {
          "model_module": "@jupyter-widgets/base",
          "model_module_version": "1.2.0",
          "model_name": "LayoutModel",
          "state": {
            "_model_module": "@jupyter-widgets/base",
            "_model_module_version": "1.2.0",
            "_model_name": "LayoutModel",
            "_view_count": null,
            "_view_module": "@jupyter-widgets/base",
            "_view_module_version": "1.2.0",
            "_view_name": "LayoutView",
            "align_content": null,
            "align_items": null,
            "align_self": null,
            "border": null,
            "bottom": null,
            "display": null,
            "flex": null,
            "flex_flow": null,
            "grid_area": null,
            "grid_auto_columns": null,
            "grid_auto_flow": null,
            "grid_auto_rows": null,
            "grid_column": null,
            "grid_gap": null,
            "grid_row": null,
            "grid_template_areas": null,
            "grid_template_columns": null,
            "grid_template_rows": null,
            "height": null,
            "justify_content": null,
            "justify_items": null,
            "left": null,
            "margin": null,
            "max_height": null,
            "max_width": null,
            "min_height": null,
            "min_width": null,
            "object_fit": null,
            "object_position": null,
            "order": null,
            "overflow": null,
            "overflow_x": null,
            "overflow_y": null,
            "padding": null,
            "right": null,
            "top": null,
            "visibility": null,
            "width": null
          }
        },
        "e26b40fbf69c46949ce0a9f7bc74cefe": {
          "model_module": "@jupyter-widgets/controls",
          "model_module_version": "1.5.0",
          "model_name": "HTMLModel",
          "state": {
            "_dom_classes": [],
            "_model_module": "@jupyter-widgets/controls",
            "_model_module_version": "1.5.0",
            "_model_name": "HTMLModel",
            "_view_count": null,
            "_view_module": "@jupyter-widgets/controls",
            "_view_module_version": "1.5.0",
            "_view_name": "HTMLView",
            "description": "",
            "description_tooltip": null,
            "layout": "IPY_MODEL_55f32770ac204a9383e434506a77052f",
            "placeholder": "​",
            "style": "IPY_MODEL_c29f5205134b4c70bf1667c44b794a22",
            "value": " 5148/5148 [00:00&lt;00:00, 33139.25it/s]"
          }
        },
        "e2edb69467d44f8bac9f4ddfcbae1d42": {
          "model_module": "@jupyter-widgets/controls",
          "model_module_version": "1.5.0",
          "model_name": "DescriptionStyleModel",
          "state": {
            "_model_module": "@jupyter-widgets/controls",
            "_model_module_version": "1.5.0",
            "_model_name": "DescriptionStyleModel",
            "_view_count": null,
            "_view_module": "@jupyter-widgets/base",
            "_view_module_version": "1.2.0",
            "_view_name": "StyleView",
            "description_width": ""
          }
        },
        "e3e4b0a6c6514f4593ce181a9aaf0320": {
          "model_module": "@jupyter-widgets/controls",
          "model_module_version": "1.5.0",
          "model_name": "ProgressStyleModel",
          "state": {
            "_model_module": "@jupyter-widgets/controls",
            "_model_module_version": "1.5.0",
            "_model_name": "ProgressStyleModel",
            "_view_count": null,
            "_view_module": "@jupyter-widgets/base",
            "_view_module_version": "1.2.0",
            "_view_name": "StyleView",
            "bar_color": null,
            "description_width": ""
          }
        },
        "eab39976194b4302ada7717857a36b29": {
          "model_module": "@jupyter-widgets/base",
          "model_module_version": "1.2.0",
          "model_name": "LayoutModel",
          "state": {
            "_model_module": "@jupyter-widgets/base",
            "_model_module_version": "1.2.0",
            "_model_name": "LayoutModel",
            "_view_count": null,
            "_view_module": "@jupyter-widgets/base",
            "_view_module_version": "1.2.0",
            "_view_name": "LayoutView",
            "align_content": null,
            "align_items": null,
            "align_self": null,
            "border": null,
            "bottom": null,
            "display": null,
            "flex": null,
            "flex_flow": null,
            "grid_area": null,
            "grid_auto_columns": null,
            "grid_auto_flow": null,
            "grid_auto_rows": null,
            "grid_column": null,
            "grid_gap": null,
            "grid_row": null,
            "grid_template_areas": null,
            "grid_template_columns": null,
            "grid_template_rows": null,
            "height": null,
            "justify_content": null,
            "justify_items": null,
            "left": null,
            "margin": null,
            "max_height": null,
            "max_width": null,
            "min_height": null,
            "min_width": null,
            "object_fit": null,
            "object_position": null,
            "order": null,
            "overflow": null,
            "overflow_x": null,
            "overflow_y": null,
            "padding": null,
            "right": null,
            "top": null,
            "visibility": null,
            "width": null
          }
        },
        "f1db87ecf82a4294951ae2023f87ac49": {
          "model_module": "@jupyter-widgets/controls",
          "model_module_version": "1.5.0",
          "model_name": "DescriptionStyleModel",
          "state": {
            "_model_module": "@jupyter-widgets/controls",
            "_model_module_version": "1.5.0",
            "_model_name": "DescriptionStyleModel",
            "_view_count": null,
            "_view_module": "@jupyter-widgets/base",
            "_view_module_version": "1.2.0",
            "_view_name": "StyleView",
            "description_width": ""
          }
        },
        "f586ea0c2863481f957fe2c7f18ee1c3": {
          "model_module": "@jupyter-widgets/base",
          "model_module_version": "1.2.0",
          "model_name": "LayoutModel",
          "state": {
            "_model_module": "@jupyter-widgets/base",
            "_model_module_version": "1.2.0",
            "_model_name": "LayoutModel",
            "_view_count": null,
            "_view_module": "@jupyter-widgets/base",
            "_view_module_version": "1.2.0",
            "_view_name": "LayoutView",
            "align_content": null,
            "align_items": null,
            "align_self": null,
            "border": null,
            "bottom": null,
            "display": null,
            "flex": null,
            "flex_flow": null,
            "grid_area": null,
            "grid_auto_columns": null,
            "grid_auto_flow": null,
            "grid_auto_rows": null,
            "grid_column": null,
            "grid_gap": null,
            "grid_row": null,
            "grid_template_areas": null,
            "grid_template_columns": null,
            "grid_template_rows": null,
            "height": null,
            "justify_content": null,
            "justify_items": null,
            "left": null,
            "margin": null,
            "max_height": null,
            "max_width": null,
            "min_height": null,
            "min_width": null,
            "object_fit": null,
            "object_position": null,
            "order": null,
            "overflow": null,
            "overflow_x": null,
            "overflow_y": null,
            "padding": null,
            "right": null,
            "top": null,
            "visibility": null,
            "width": null
          }
        },
        "f65e22a60533482fbc8e064e790c17fc": {
          "model_module": "@jupyter-widgets/controls",
          "model_module_version": "1.5.0",
          "model_name": "DescriptionStyleModel",
          "state": {
            "_model_module": "@jupyter-widgets/controls",
            "_model_module_version": "1.5.0",
            "_model_name": "DescriptionStyleModel",
            "_view_count": null,
            "_view_module": "@jupyter-widgets/base",
            "_view_module_version": "1.2.0",
            "_view_name": "StyleView",
            "description_width": ""
          }
        },
        "f8172fcf47b444a18cfe21801052d9be": {
          "model_module": "@jupyter-widgets/controls",
          "model_module_version": "1.5.0",
          "model_name": "HTMLModel",
          "state": {
            "_dom_classes": [],
            "_model_module": "@jupyter-widgets/controls",
            "_model_module_version": "1.5.0",
            "_model_name": "HTMLModel",
            "_view_count": null,
            "_view_module": "@jupyter-widgets/controls",
            "_view_module_version": "1.5.0",
            "_view_name": "HTMLView",
            "description": "",
            "description_tooltip": null,
            "layout": "IPY_MODEL_a6659418702440ddad413dae8f7e126b",
            "placeholder": "​",
            "style": "IPY_MODEL_37743cce1fb04eca866538b54cc8fd5c",
            "value": "100%"
          }
        },
        "fb2757fc42c84897a091ec130641afbe": {
          "model_module": "@jupyter-widgets/controls",
          "model_module_version": "1.5.0",
          "model_name": "DescriptionStyleModel",
          "state": {
            "_model_module": "@jupyter-widgets/controls",
            "_model_module_version": "1.5.0",
            "_model_name": "DescriptionStyleModel",
            "_view_count": null,
            "_view_module": "@jupyter-widgets/base",
            "_view_module_version": "1.2.0",
            "_view_name": "StyleView",
            "description_width": ""
          }
        }
      }
    }
  },
  "nbformat": 4,
  "nbformat_minor": 5
}
